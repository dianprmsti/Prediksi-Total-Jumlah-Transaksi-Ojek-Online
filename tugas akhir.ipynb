{
 "cells": [
  {
   "cell_type": "markdown",
   "metadata": {},
   "source": [
    "Objektif yang ingin dicapai antara lain:\n",
    "\n",
    "- Untuk mengetahui faktor-faktor yang berpengaruh dalam memprediksi total_jumlah_transaksi.\n",
    "- Dapat memprediksi total_jumlah_transaksi berdasarkan faktor-faktor yang mempengaruhinya menggunakan metode regresi linier."
   ]
  },
  {
   "cell_type": "markdown",
   "metadata": {
    "id": "86Y-31PuuI-U"
   },
   "source": [
    "# IMPORT PUSTAKA"
   ]
  },
  {
   "cell_type": "code",
   "execution_count": 1,
   "metadata": {
    "id": "kublXop8tFeK"
   },
   "outputs": [],
   "source": [
    "# Import Pustaka\n",
    "import numpy as np\n",
    "import pandas as pd\n",
    "import seaborn as sns\n",
    "import matplotlib.pyplot as plt\n",
    "from matplotlib.pyplot import *\n",
    "from sklearn.preprocessing import OneHotEncoder\n",
    "from sklearn.preprocessing import MinMaxScaler\n",
    "from sklearn.model_selection import train_test_split\n",
    "from sklearn.linear_model import LinearRegression\n",
    "from sklearn.preprocessing import MinMaxScaler\n",
    "from sklearn.feature_selection import f_regression\n",
    "from sklearn.feature_selection import SelectKBest\n",
    "from sklearn.preprocessing import OneHotEncoder,LabelEncoder, StandardScaler\n",
    "from sklearn.pipeline import make_pipeline\n",
    "from sklearn.ensemble import RandomForestRegressor\n",
    "from sklearn.metrics import mean_squared_error"
   ]
  },
  {
   "cell_type": "markdown",
   "metadata": {
    "id": "lWQYzrobuS0a"
   },
   "source": [
    "# DATA LOADING"
   ]
  },
  {
   "cell_type": "code",
   "execution_count": 2,
   "metadata": {
    "colab": {
     "base_uri": "https://localhost:8080/",
     "height": 1000
    },
    "id": "PpwQ9mMftJpq",
    "outputId": "e2f08c1d-058e-47af-cfa3-9b80f09afbf8"
   },
   "outputs": [
    {
     "data": {
      "text/html": [
       "<div>\n",
       "<style scoped>\n",
       "    .dataframe tbody tr th:only-of-type {\n",
       "        vertical-align: middle;\n",
       "    }\n",
       "\n",
       "    .dataframe tbody tr th {\n",
       "        vertical-align: top;\n",
       "    }\n",
       "\n",
       "    .dataframe thead th {\n",
       "        text-align: right;\n",
       "    }\n",
       "</style>\n",
       "<table border=\"1\" class=\"dataframe\">\n",
       "  <thead>\n",
       "    <tr style=\"text-align: right;\">\n",
       "      <th></th>\n",
       "      <th>id</th>\n",
       "      <th>date</th>\n",
       "      <th>mode</th>\n",
       "      <th>from_alamat</th>\n",
       "      <th>from_kelurahan</th>\n",
       "      <th>from_kecamatan</th>\n",
       "      <th>from_latlng</th>\n",
       "      <th>to_alamat</th>\n",
       "      <th>to_kelurahan</th>\n",
       "      <th>to_kecamatan</th>\n",
       "      <th>...</th>\n",
       "      <th>customer_gender</th>\n",
       "      <th>customer_birthdate</th>\n",
       "      <th>driver_id</th>\n",
       "      <th>driver_gender</th>\n",
       "      <th>driver_birthdate</th>\n",
       "      <th>kendaraan_jenis</th>\n",
       "      <th>kendaraan_merk</th>\n",
       "      <th>merchant_id</th>\n",
       "      <th>merchant_name</th>\n",
       "      <th>merchant_category</th>\n",
       "    </tr>\n",
       "  </thead>\n",
       "  <tbody>\n",
       "    <tr>\n",
       "      <th>0</th>\n",
       "      <td>1617</td>\n",
       "      <td>2019/03/09 20:45 s/d 2019/03/09 19:55</td>\n",
       "      <td>BIKE</td>\n",
       "      <td>Gang Ikhwan No.16,  Sungai Jawi</td>\n",
       "      <td>DARAT SEKIP</td>\n",
       "      <td>PONTIANAK KOTA</td>\n",
       "      <td>-0,0303277,109,297753</td>\n",
       "      <td>Jl. Prof. M.Yamin No.3a,  Sungai Bangkong</td>\n",
       "      <td>BENUA MELAYU LAUT</td>\n",
       "      <td>PONTIANAK SELATAN</td>\n",
       "      <td>...</td>\n",
       "      <td>P</td>\n",
       "      <td>1994-02-05T00:00:00</td>\n",
       "      <td>90</td>\n",
       "      <td>L</td>\n",
       "      <td>1997-03-24T00:00:00</td>\n",
       "      <td>MOTOR</td>\n",
       "      <td>Yamaha</td>\n",
       "      <td>NaN</td>\n",
       "      <td>NaN</td>\n",
       "      <td>NaN</td>\n",
       "    </tr>\n",
       "    <tr>\n",
       "      <th>1</th>\n",
       "      <td>1297</td>\n",
       "      <td>2019/03/09 19:55 s/d 2019/03/09 19:54</td>\n",
       "      <td>FOOD</td>\n",
       "      <td>Neo Shabu-Shabu Steak &amp; Shake, Johar, Jl. Joha...</td>\n",
       "      <td>SUNGAI BANGKONG</td>\n",
       "      <td>PONTIANAK KOTA</td>\n",
       "      <td>-0,02861,109,329253</td>\n",
       "      <td>Jl. Dare Nandong Villa Ria Indah,  Tj. Hulu</td>\n",
       "      <td>BANJAR SERASAN</td>\n",
       "      <td>PONTIANAK TIMUR</td>\n",
       "      <td>...</td>\n",
       "      <td>L</td>\n",
       "      <td>2004-04-22T00:00:00</td>\n",
       "      <td>77</td>\n",
       "      <td>L</td>\n",
       "      <td>1976-07-26T00:00:00</td>\n",
       "      <td>MOTOR</td>\n",
       "      <td>BMW</td>\n",
       "      <td>93.0</td>\n",
       "      <td>Neo Shabu-Shabu Steak &amp; Shake, Johar</td>\n",
       "      <td>RESTAURANT</td>\n",
       "    </tr>\n",
       "    <tr>\n",
       "      <th>2</th>\n",
       "      <td>1394</td>\n",
       "      <td>2019/03/09 19:54 s/d 2019/03/09 18:56</td>\n",
       "      <td>SHOP</td>\n",
       "      <td>Alfamart Pontianak Mall, Jl Teuku Umar</td>\n",
       "      <td>DARAT SEKIP</td>\n",
       "      <td>PONTIANAK KOTA</td>\n",
       "      <td>-0,0301863,109,3356331</td>\n",
       "      <td>Gg. Gn. Malabar No.21,  Sungai Jawi</td>\n",
       "      <td>SUNGAI BELIUNG</td>\n",
       "      <td>PONTIANAK BARAT</td>\n",
       "      <td>...</td>\n",
       "      <td>L</td>\n",
       "      <td>2000-01-07T00:00:00</td>\n",
       "      <td>75</td>\n",
       "      <td>L</td>\n",
       "      <td>1985-12-28T00:00:00</td>\n",
       "      <td>MOTOR</td>\n",
       "      <td>TVS</td>\n",
       "      <td>421.0</td>\n",
       "      <td>Alfamart Pontianak Mall</td>\n",
       "      <td>TOKO/SWALAYAN</td>\n",
       "    </tr>\n",
       "    <tr>\n",
       "      <th>3</th>\n",
       "      <td>1120</td>\n",
       "      <td>2019/03/09 18:56 s/d 2019/03/09 12:28</td>\n",
       "      <td>FOOD</td>\n",
       "      <td>Parklife, Jl. Karimata No.64, Sungai Bangkong,...</td>\n",
       "      <td>MARIANA</td>\n",
       "      <td>PONTIANAK KOTA</td>\n",
       "      <td>-0,0305815,109,3264009</td>\n",
       "      <td>Unnamed Road,  Pal IX</td>\n",
       "      <td>BANGKA BELITUNG DARAT</td>\n",
       "      <td>PONTIANAK TENGGARA</td>\n",
       "      <td>...</td>\n",
       "      <td>L</td>\n",
       "      <td>1987-08-02T00:00:00</td>\n",
       "      <td>82</td>\n",
       "      <td>L</td>\n",
       "      <td>1993-06-10T00:00:00</td>\n",
       "      <td>MOTOR</td>\n",
       "      <td>Suzuki</td>\n",
       "      <td>109.0</td>\n",
       "      <td>Parklife</td>\n",
       "      <td>CAFE</td>\n",
       "    </tr>\n",
       "    <tr>\n",
       "      <th>4</th>\n",
       "      <td>2053</td>\n",
       "      <td>2019/03/09 12:28 s/d 2019/03/08 18:25</td>\n",
       "      <td>CAR</td>\n",
       "      <td>Jl. Tabrani Ahmad No.12,  Sungai Jawi Dalam</td>\n",
       "      <td>PAL LIMA</td>\n",
       "      <td>PONTIANAK BARAT</td>\n",
       "      <td>-0,018461872,109,3075679</td>\n",
       "      <td>Pal IX,  Kakap River</td>\n",
       "      <td>BANSIR LAUT</td>\n",
       "      <td>PONTIANAK TENGGARA</td>\n",
       "      <td>...</td>\n",
       "      <td>L</td>\n",
       "      <td>2004-01-23T00:00:00</td>\n",
       "      <td>109</td>\n",
       "      <td>P</td>\n",
       "      <td>1988-05-02T00:00:00</td>\n",
       "      <td>MOBIL</td>\n",
       "      <td>Honda</td>\n",
       "      <td>NaN</td>\n",
       "      <td>NaN</td>\n",
       "      <td>NaN</td>\n",
       "    </tr>\n",
       "    <tr>\n",
       "      <th>...</th>\n",
       "      <td>...</td>\n",
       "      <td>...</td>\n",
       "      <td>...</td>\n",
       "      <td>...</td>\n",
       "      <td>...</td>\n",
       "      <td>...</td>\n",
       "      <td>...</td>\n",
       "      <td>...</td>\n",
       "      <td>...</td>\n",
       "      <td>...</td>\n",
       "      <td>...</td>\n",
       "      <td>...</td>\n",
       "      <td>...</td>\n",
       "      <td>...</td>\n",
       "      <td>...</td>\n",
       "      <td>...</td>\n",
       "      <td>...</td>\n",
       "      <td>...</td>\n",
       "      <td>...</td>\n",
       "      <td>...</td>\n",
       "      <td>...</td>\n",
       "    </tr>\n",
       "    <tr>\n",
       "      <th>1012</th>\n",
       "      <td>1639</td>\n",
       "      <td>2018/09/10 18:28 s/d 2018/09/10 15:29</td>\n",
       "      <td>BIKE</td>\n",
       "      <td>Gg. Metal,  Siantan Hulu</td>\n",
       "      <td>SIANTAN HILIR</td>\n",
       "      <td>PONTIANAK UTARA</td>\n",
       "      <td>-0,006927295,109,3522482</td>\n",
       "      <td>Gang Jaya Makmur,  Kota Baru</td>\n",
       "      <td>KOTA BARU</td>\n",
       "      <td>PONTIANAK SELATAN</td>\n",
       "      <td>...</td>\n",
       "      <td>L</td>\n",
       "      <td>2004-04-22T00:00:00</td>\n",
       "      <td>77</td>\n",
       "      <td>L</td>\n",
       "      <td>1976-07-26T00:00:00</td>\n",
       "      <td>MOTOR</td>\n",
       "      <td>BMW</td>\n",
       "      <td>NaN</td>\n",
       "      <td>NaN</td>\n",
       "      <td>NaN</td>\n",
       "    </tr>\n",
       "    <tr>\n",
       "      <th>1013</th>\n",
       "      <td>1123</td>\n",
       "      <td>2018/09/10 15:29 s/d 2018/09/10 14:27</td>\n",
       "      <td>FOOD</td>\n",
       "      <td>Mekuru Ramen House, Jl. Ketapang No.31, Benua ...</td>\n",
       "      <td>BENUA MELAYU LAUT</td>\n",
       "      <td>PONTIANAK SELATAN</td>\n",
       "      <td>-0,0331539,109,344327</td>\n",
       "      <td>Jl. Kebangkitan Nasional,  Siantan Hulu</td>\n",
       "      <td>BATU LAYANG</td>\n",
       "      <td>PONTIANAK UTARA</td>\n",
       "      <td>...</td>\n",
       "      <td>P</td>\n",
       "      <td>1985-12-24T00:00:00</td>\n",
       "      <td>81</td>\n",
       "      <td>L</td>\n",
       "      <td>1991-09-08T00:00:00</td>\n",
       "      <td>MOTOR</td>\n",
       "      <td>BMW</td>\n",
       "      <td>82.0</td>\n",
       "      <td>Mekuru Ramen House</td>\n",
       "      <td>RESTAURANT</td>\n",
       "    </tr>\n",
       "    <tr>\n",
       "      <th>1014</th>\n",
       "      <td>1242</td>\n",
       "      <td>2018/09/10 14:27 s/d 2018/09/10 10:30</td>\n",
       "      <td>FOOD</td>\n",
       "      <td>Pondok Ale-ale, Gg. Suka Damai No.21, Sungai B...</td>\n",
       "      <td>SUNGAI BANGKONG</td>\n",
       "      <td>PONTIANAK KOTA</td>\n",
       "      <td>-0,03718,109,325818</td>\n",
       "      <td>Jl. Swadaya,  Pal IX</td>\n",
       "      <td>BANGKA BELITUNG LAUT</td>\n",
       "      <td>PONTIANAK TENGGARA</td>\n",
       "      <td>...</td>\n",
       "      <td>L</td>\n",
       "      <td>2002-03-26T00:00:00</td>\n",
       "      <td>93</td>\n",
       "      <td>L</td>\n",
       "      <td>1984-12-26T00:00:00</td>\n",
       "      <td>MOTOR</td>\n",
       "      <td>TVS</td>\n",
       "      <td>16.0</td>\n",
       "      <td>Pondok Ale-ale</td>\n",
       "      <td>RESTAURANT</td>\n",
       "    </tr>\n",
       "    <tr>\n",
       "      <th>1015</th>\n",
       "      <td>1779</td>\n",
       "      <td>2018/09/10 10:30 s/d 2018/09/10 09:12</td>\n",
       "      <td>BIKE</td>\n",
       "      <td>Gg. Dharma Putra 17A,  Siantan Hilir</td>\n",
       "      <td>SIANTAN TENGAH</td>\n",
       "      <td>PONTIANAK UTARA</td>\n",
       "      <td>-0,003775875,109,3458342</td>\n",
       "      <td>Gg. Losari No.16,  Sungai Jawi</td>\n",
       "      <td>SUNGAI JAWI LUAR</td>\n",
       "      <td>PONTIANAK BARAT</td>\n",
       "      <td>...</td>\n",
       "      <td>P</td>\n",
       "      <td>1987-07-18T00:00:00</td>\n",
       "      <td>80</td>\n",
       "      <td>L</td>\n",
       "      <td>1987-03-29T00:00:00</td>\n",
       "      <td>MOTOR</td>\n",
       "      <td>TVS</td>\n",
       "      <td>NaN</td>\n",
       "      <td>NaN</td>\n",
       "      <td>NaN</td>\n",
       "    </tr>\n",
       "    <tr>\n",
       "      <th>1016</th>\n",
       "      <td>1228</td>\n",
       "      <td>2018/09/10 09:12 s/d 1900/01/00 00:00</td>\n",
       "      <td>FOOD</td>\n",
       "      <td>Pak Kumis, Jl. Husin Hanzah No.2A, Pal Lima, P...</td>\n",
       "      <td>DARAT SEKIP</td>\n",
       "      <td>PONTIANAK KOTA</td>\n",
       "      <td>-0,031872,109,293303</td>\n",
       "      <td>Unnamed Road,  Parit Tokaya</td>\n",
       "      <td>BENUA MELAYU DARAT</td>\n",
       "      <td>PONTIANAK SELATAN</td>\n",
       "      <td>...</td>\n",
       "      <td>L</td>\n",
       "      <td>1988-05-03T00:00:00</td>\n",
       "      <td>102</td>\n",
       "      <td>P</td>\n",
       "      <td>1993-04-23T00:00:00</td>\n",
       "      <td>MOTOR</td>\n",
       "      <td>Kawasaki</td>\n",
       "      <td>264.0</td>\n",
       "      <td>Pak Kumis</td>\n",
       "      <td>WARUNG MAKAN</td>\n",
       "    </tr>\n",
       "  </tbody>\n",
       "</table>\n",
       "<p>1017 rows × 26 columns</p>\n",
       "</div>"
      ],
      "text/plain": [
       "        id                                   date  mode  \\\n",
       "0     1617  2019/03/09 20:45 s/d 2019/03/09 19:55  BIKE   \n",
       "1     1297  2019/03/09 19:55 s/d 2019/03/09 19:54  FOOD   \n",
       "2     1394  2019/03/09 19:54 s/d 2019/03/09 18:56  SHOP   \n",
       "3     1120  2019/03/09 18:56 s/d 2019/03/09 12:28  FOOD   \n",
       "4     2053  2019/03/09 12:28 s/d 2019/03/08 18:25   CAR   \n",
       "...    ...                                    ...   ...   \n",
       "1012  1639  2018/09/10 18:28 s/d 2018/09/10 15:29  BIKE   \n",
       "1013  1123  2018/09/10 15:29 s/d 2018/09/10 14:27  FOOD   \n",
       "1014  1242  2018/09/10 14:27 s/d 2018/09/10 10:30  FOOD   \n",
       "1015  1779  2018/09/10 10:30 s/d 2018/09/10 09:12  BIKE   \n",
       "1016  1228  2018/09/10 09:12 s/d 1900/01/00 00:00  FOOD   \n",
       "\n",
       "                                            from_alamat     from_kelurahan  \\\n",
       "0                       Gang Ikhwan No.16,  Sungai Jawi        DARAT SEKIP   \n",
       "1     Neo Shabu-Shabu Steak & Shake, Johar, Jl. Joha...    SUNGAI BANGKONG   \n",
       "2                Alfamart Pontianak Mall, Jl Teuku Umar        DARAT SEKIP   \n",
       "3     Parklife, Jl. Karimata No.64, Sungai Bangkong,...            MARIANA   \n",
       "4           Jl. Tabrani Ahmad No.12,  Sungai Jawi Dalam           PAL LIMA   \n",
       "...                                                 ...                ...   \n",
       "1012                           Gg. Metal,  Siantan Hulu      SIANTAN HILIR   \n",
       "1013  Mekuru Ramen House, Jl. Ketapang No.31, Benua ...  BENUA MELAYU LAUT   \n",
       "1014  Pondok Ale-ale, Gg. Suka Damai No.21, Sungai B...    SUNGAI BANGKONG   \n",
       "1015               Gg. Dharma Putra 17A,  Siantan Hilir     SIANTAN TENGAH   \n",
       "1016  Pak Kumis, Jl. Husin Hanzah No.2A, Pal Lima, P...        DARAT SEKIP   \n",
       "\n",
       "         from_kecamatan               from_latlng  \\\n",
       "0        PONTIANAK KOTA     -0,0303277,109,297753   \n",
       "1        PONTIANAK KOTA       -0,02861,109,329253   \n",
       "2        PONTIANAK KOTA    -0,0301863,109,3356331   \n",
       "3        PONTIANAK KOTA    -0,0305815,109,3264009   \n",
       "4       PONTIANAK BARAT  -0,018461872,109,3075679   \n",
       "...                 ...                       ...   \n",
       "1012    PONTIANAK UTARA  -0,006927295,109,3522482   \n",
       "1013  PONTIANAK SELATAN     -0,0331539,109,344327   \n",
       "1014     PONTIANAK KOTA       -0,03718,109,325818   \n",
       "1015    PONTIANAK UTARA  -0,003775875,109,3458342   \n",
       "1016     PONTIANAK KOTA      -0,031872,109,293303   \n",
       "\n",
       "                                        to_alamat           to_kelurahan  \\\n",
       "0       Jl. Prof. M.Yamin No.3a,  Sungai Bangkong      BENUA MELAYU LAUT   \n",
       "1     Jl. Dare Nandong Villa Ria Indah,  Tj. Hulu         BANJAR SERASAN   \n",
       "2             Gg. Gn. Malabar No.21,  Sungai Jawi         SUNGAI BELIUNG   \n",
       "3                           Unnamed Road,  Pal IX  BANGKA BELITUNG DARAT   \n",
       "4                            Pal IX,  Kakap River            BANSIR LAUT   \n",
       "...                                           ...                    ...   \n",
       "1012                 Gang Jaya Makmur,  Kota Baru              KOTA BARU   \n",
       "1013      Jl. Kebangkitan Nasional,  Siantan Hulu            BATU LAYANG   \n",
       "1014                         Jl. Swadaya,  Pal IX   BANGKA BELITUNG LAUT   \n",
       "1015               Gg. Losari No.16,  Sungai Jawi       SUNGAI JAWI LUAR   \n",
       "1016                  Unnamed Road,  Parit Tokaya     BENUA MELAYU DARAT   \n",
       "\n",
       "            to_kecamatan  ... customer_gender   customer_birthdate  driver_id  \\\n",
       "0      PONTIANAK SELATAN  ...               P  1994-02-05T00:00:00         90   \n",
       "1        PONTIANAK TIMUR  ...               L  2004-04-22T00:00:00         77   \n",
       "2        PONTIANAK BARAT  ...               L  2000-01-07T00:00:00         75   \n",
       "3     PONTIANAK TENGGARA  ...               L  1987-08-02T00:00:00         82   \n",
       "4     PONTIANAK TENGGARA  ...               L  2004-01-23T00:00:00        109   \n",
       "...                  ...  ...             ...                  ...        ...   \n",
       "1012   PONTIANAK SELATAN  ...               L  2004-04-22T00:00:00         77   \n",
       "1013     PONTIANAK UTARA  ...               P  1985-12-24T00:00:00         81   \n",
       "1014  PONTIANAK TENGGARA  ...               L  2002-03-26T00:00:00         93   \n",
       "1015     PONTIANAK BARAT  ...               P  1987-07-18T00:00:00         80   \n",
       "1016   PONTIANAK SELATAN  ...               L  1988-05-03T00:00:00        102   \n",
       "\n",
       "      driver_gender     driver_birthdate  kendaraan_jenis kendaraan_merk  \\\n",
       "0                 L  1997-03-24T00:00:00            MOTOR         Yamaha   \n",
       "1                 L  1976-07-26T00:00:00            MOTOR            BMW   \n",
       "2                 L  1985-12-28T00:00:00            MOTOR            TVS   \n",
       "3                 L  1993-06-10T00:00:00            MOTOR         Suzuki   \n",
       "4                 P  1988-05-02T00:00:00            MOBIL          Honda   \n",
       "...             ...                  ...              ...            ...   \n",
       "1012              L  1976-07-26T00:00:00            MOTOR            BMW   \n",
       "1013              L  1991-09-08T00:00:00            MOTOR            BMW   \n",
       "1014              L  1984-12-26T00:00:00            MOTOR            TVS   \n",
       "1015              L  1987-03-29T00:00:00            MOTOR            TVS   \n",
       "1016              P  1993-04-23T00:00:00            MOTOR       Kawasaki   \n",
       "\n",
       "     merchant_id                         merchant_name merchant_category  \n",
       "0            NaN                                   NaN               NaN  \n",
       "1           93.0  Neo Shabu-Shabu Steak & Shake, Johar        RESTAURANT  \n",
       "2          421.0               Alfamart Pontianak Mall     TOKO/SWALAYAN  \n",
       "3          109.0                              Parklife              CAFE  \n",
       "4            NaN                                   NaN               NaN  \n",
       "...          ...                                   ...               ...  \n",
       "1012         NaN                                   NaN               NaN  \n",
       "1013        82.0                    Mekuru Ramen House        RESTAURANT  \n",
       "1014        16.0                        Pondok Ale-ale        RESTAURANT  \n",
       "1015         NaN                                   NaN               NaN  \n",
       "1016       264.0                             Pak Kumis      WARUNG MAKAN  \n",
       "\n",
       "[1017 rows x 26 columns]"
      ]
     },
     "execution_count": 2,
     "metadata": {},
     "output_type": "execute_result"
    }
   ],
   "source": [
    "# Read Dataset\n",
    "df = pd.read_csv('dummy-transaksi-ojol-need-clean.csv', sep=';')\n",
    "\n",
    "# Menampilkan dataset\n",
    "df"
   ]
  },
  {
   "cell_type": "code",
   "execution_count": 3,
   "metadata": {
    "colab": {
     "base_uri": "https://localhost:8080/"
    },
    "id": "UyPNQFHDtcBb",
    "outputId": "d14f4d90-5812-4558-d84a-c727a7eebfa6"
   },
   "outputs": [
    {
     "name": "stdout",
     "output_type": "stream",
     "text": [
      "<class 'pandas.core.frame.DataFrame'>\n",
      "RangeIndex: 1017 entries, 0 to 1016\n",
      "Data columns (total 26 columns):\n",
      " #   Column                    Non-Null Count  Dtype  \n",
      "---  ------                    --------------  -----  \n",
      " 0   id                        1017 non-null   int64  \n",
      " 1   date                      1017 non-null   object \n",
      " 2   mode                      1017 non-null   object \n",
      " 3   from_alamat               1017 non-null   object \n",
      " 4   from_kelurahan            1017 non-null   object \n",
      " 5   from_kecamatan            1017 non-null   object \n",
      " 6   from_latlng               1017 non-null   object \n",
      " 7   to_alamat                 1014 non-null   object \n",
      " 8   to_kelurahan              1017 non-null   object \n",
      " 9   to_kecamatan              1017 non-null   object \n",
      " 10  to_latlng                 1017 non-null   object \n",
      " 11  distance                  1017 non-null   float64\n",
      " 12  amount_delivery           1017 non-null   int64  \n",
      " 13  amount_merchant           1017 non-null   int64  \n",
      " 14  transaction_amount_total  1017 non-null   int64  \n",
      " 15  customer_id               1017 non-null   int64  \n",
      " 16  customer_gender           1017 non-null   object \n",
      " 17  customer_birthdate        1017 non-null   object \n",
      " 18  driver_id                 1017 non-null   int64  \n",
      " 19  driver_gender             1017 non-null   object \n",
      " 20  driver_birthdate          1017 non-null   object \n",
      " 21  kendaraan_jenis           1017 non-null   object \n",
      " 22  kendaraan_merk            1017 non-null   object \n",
      " 23  merchant_id               450 non-null    float64\n",
      " 24  merchant_name             450 non-null    object \n",
      " 25  merchant_category         450 non-null    object \n",
      "dtypes: float64(2), int64(6), object(18)\n",
      "memory usage: 206.7+ KB\n"
     ]
    }
   ],
   "source": [
    "# Menampilkan informasi tiap kolom pada dataset\n",
    "df.info()"
   ]
  },
  {
   "cell_type": "code",
   "execution_count": 4,
   "metadata": {
    "colab": {
     "base_uri": "https://localhost:8080/"
    },
    "id": "EoY8WYt1ubfb",
    "outputId": "ef7ce6ad-6962-4605-c241-efdd93fd0929"
   },
   "outputs": [
    {
     "data": {
      "text/plain": [
       "(1017, 26)"
      ]
     },
     "execution_count": 4,
     "metadata": {},
     "output_type": "execute_result"
    }
   ],
   "source": [
    "# Melihat bentuk dari dataset\n",
    "df.shape"
   ]
  },
  {
   "cell_type": "code",
   "execution_count": 5,
   "metadata": {
    "colab": {
     "base_uri": "https://localhost:8080/",
     "height": 647
    },
    "id": "ZAOyCYtRucKt",
    "outputId": "f7f4065b-3fbc-43a9-9959-3e0a491f8729"
   },
   "outputs": [
    {
     "data": {
      "text/html": [
       "<div>\n",
       "<style scoped>\n",
       "    .dataframe tbody tr th:only-of-type {\n",
       "        vertical-align: middle;\n",
       "    }\n",
       "\n",
       "    .dataframe tbody tr th {\n",
       "        vertical-align: top;\n",
       "    }\n",
       "\n",
       "    .dataframe thead th {\n",
       "        text-align: right;\n",
       "    }\n",
       "</style>\n",
       "<table border=\"1\" class=\"dataframe\">\n",
       "  <thead>\n",
       "    <tr style=\"text-align: right;\">\n",
       "      <th></th>\n",
       "      <th>id</th>\n",
       "      <th>date</th>\n",
       "      <th>mode</th>\n",
       "      <th>from_alamat</th>\n",
       "      <th>from_kelurahan</th>\n",
       "      <th>from_kecamatan</th>\n",
       "      <th>from_latlng</th>\n",
       "      <th>to_alamat</th>\n",
       "      <th>to_kelurahan</th>\n",
       "      <th>to_kecamatan</th>\n",
       "      <th>...</th>\n",
       "      <th>customer_gender</th>\n",
       "      <th>customer_birthdate</th>\n",
       "      <th>driver_id</th>\n",
       "      <th>driver_gender</th>\n",
       "      <th>driver_birthdate</th>\n",
       "      <th>kendaraan_jenis</th>\n",
       "      <th>kendaraan_merk</th>\n",
       "      <th>merchant_id</th>\n",
       "      <th>merchant_name</th>\n",
       "      <th>merchant_category</th>\n",
       "    </tr>\n",
       "  </thead>\n",
       "  <tbody>\n",
       "    <tr>\n",
       "      <th>0</th>\n",
       "      <td>1617</td>\n",
       "      <td>2019/03/09 20:45 s/d 2019/03/09 19:55</td>\n",
       "      <td>BIKE</td>\n",
       "      <td>Gang Ikhwan No.16,  Sungai Jawi</td>\n",
       "      <td>DARAT SEKIP</td>\n",
       "      <td>PONTIANAK KOTA</td>\n",
       "      <td>-0,0303277,109,297753</td>\n",
       "      <td>Jl. Prof. M.Yamin No.3a,  Sungai Bangkong</td>\n",
       "      <td>BENUA MELAYU LAUT</td>\n",
       "      <td>PONTIANAK SELATAN</td>\n",
       "      <td>...</td>\n",
       "      <td>P</td>\n",
       "      <td>1994-02-05T00:00:00</td>\n",
       "      <td>90</td>\n",
       "      <td>L</td>\n",
       "      <td>1997-03-24T00:00:00</td>\n",
       "      <td>MOTOR</td>\n",
       "      <td>Yamaha</td>\n",
       "      <td>NaN</td>\n",
       "      <td>NaN</td>\n",
       "      <td>NaN</td>\n",
       "    </tr>\n",
       "    <tr>\n",
       "      <th>1</th>\n",
       "      <td>1297</td>\n",
       "      <td>2019/03/09 19:55 s/d 2019/03/09 19:54</td>\n",
       "      <td>FOOD</td>\n",
       "      <td>Neo Shabu-Shabu Steak &amp; Shake, Johar, Jl. Joha...</td>\n",
       "      <td>SUNGAI BANGKONG</td>\n",
       "      <td>PONTIANAK KOTA</td>\n",
       "      <td>-0,02861,109,329253</td>\n",
       "      <td>Jl. Dare Nandong Villa Ria Indah,  Tj. Hulu</td>\n",
       "      <td>BANJAR SERASAN</td>\n",
       "      <td>PONTIANAK TIMUR</td>\n",
       "      <td>...</td>\n",
       "      <td>L</td>\n",
       "      <td>2004-04-22T00:00:00</td>\n",
       "      <td>77</td>\n",
       "      <td>L</td>\n",
       "      <td>1976-07-26T00:00:00</td>\n",
       "      <td>MOTOR</td>\n",
       "      <td>BMW</td>\n",
       "      <td>93.0</td>\n",
       "      <td>Neo Shabu-Shabu Steak &amp; Shake, Johar</td>\n",
       "      <td>RESTAURANT</td>\n",
       "    </tr>\n",
       "    <tr>\n",
       "      <th>2</th>\n",
       "      <td>1394</td>\n",
       "      <td>2019/03/09 19:54 s/d 2019/03/09 18:56</td>\n",
       "      <td>SHOP</td>\n",
       "      <td>Alfamart Pontianak Mall, Jl Teuku Umar</td>\n",
       "      <td>DARAT SEKIP</td>\n",
       "      <td>PONTIANAK KOTA</td>\n",
       "      <td>-0,0301863,109,3356331</td>\n",
       "      <td>Gg. Gn. Malabar No.21,  Sungai Jawi</td>\n",
       "      <td>SUNGAI BELIUNG</td>\n",
       "      <td>PONTIANAK BARAT</td>\n",
       "      <td>...</td>\n",
       "      <td>L</td>\n",
       "      <td>2000-01-07T00:00:00</td>\n",
       "      <td>75</td>\n",
       "      <td>L</td>\n",
       "      <td>1985-12-28T00:00:00</td>\n",
       "      <td>MOTOR</td>\n",
       "      <td>TVS</td>\n",
       "      <td>421.0</td>\n",
       "      <td>Alfamart Pontianak Mall</td>\n",
       "      <td>TOKO/SWALAYAN</td>\n",
       "    </tr>\n",
       "    <tr>\n",
       "      <th>3</th>\n",
       "      <td>1120</td>\n",
       "      <td>2019/03/09 18:56 s/d 2019/03/09 12:28</td>\n",
       "      <td>FOOD</td>\n",
       "      <td>Parklife, Jl. Karimata No.64, Sungai Bangkong,...</td>\n",
       "      <td>MARIANA</td>\n",
       "      <td>PONTIANAK KOTA</td>\n",
       "      <td>-0,0305815,109,3264009</td>\n",
       "      <td>Unnamed Road,  Pal IX</td>\n",
       "      <td>BANGKA BELITUNG DARAT</td>\n",
       "      <td>PONTIANAK TENGGARA</td>\n",
       "      <td>...</td>\n",
       "      <td>L</td>\n",
       "      <td>1987-08-02T00:00:00</td>\n",
       "      <td>82</td>\n",
       "      <td>L</td>\n",
       "      <td>1993-06-10T00:00:00</td>\n",
       "      <td>MOTOR</td>\n",
       "      <td>Suzuki</td>\n",
       "      <td>109.0</td>\n",
       "      <td>Parklife</td>\n",
       "      <td>CAFE</td>\n",
       "    </tr>\n",
       "    <tr>\n",
       "      <th>4</th>\n",
       "      <td>2053</td>\n",
       "      <td>2019/03/09 12:28 s/d 2019/03/08 18:25</td>\n",
       "      <td>CAR</td>\n",
       "      <td>Jl. Tabrani Ahmad No.12,  Sungai Jawi Dalam</td>\n",
       "      <td>PAL LIMA</td>\n",
       "      <td>PONTIANAK BARAT</td>\n",
       "      <td>-0,018461872,109,3075679</td>\n",
       "      <td>Pal IX,  Kakap River</td>\n",
       "      <td>BANSIR LAUT</td>\n",
       "      <td>PONTIANAK TENGGARA</td>\n",
       "      <td>...</td>\n",
       "      <td>L</td>\n",
       "      <td>2004-01-23T00:00:00</td>\n",
       "      <td>109</td>\n",
       "      <td>P</td>\n",
       "      <td>1988-05-02T00:00:00</td>\n",
       "      <td>MOBIL</td>\n",
       "      <td>Honda</td>\n",
       "      <td>NaN</td>\n",
       "      <td>NaN</td>\n",
       "      <td>NaN</td>\n",
       "    </tr>\n",
       "  </tbody>\n",
       "</table>\n",
       "<p>5 rows × 26 columns</p>\n",
       "</div>"
      ],
      "text/plain": [
       "     id                                   date  mode  \\\n",
       "0  1617  2019/03/09 20:45 s/d 2019/03/09 19:55  BIKE   \n",
       "1  1297  2019/03/09 19:55 s/d 2019/03/09 19:54  FOOD   \n",
       "2  1394  2019/03/09 19:54 s/d 2019/03/09 18:56  SHOP   \n",
       "3  1120  2019/03/09 18:56 s/d 2019/03/09 12:28  FOOD   \n",
       "4  2053  2019/03/09 12:28 s/d 2019/03/08 18:25   CAR   \n",
       "\n",
       "                                         from_alamat   from_kelurahan  \\\n",
       "0                    Gang Ikhwan No.16,  Sungai Jawi      DARAT SEKIP   \n",
       "1  Neo Shabu-Shabu Steak & Shake, Johar, Jl. Joha...  SUNGAI BANGKONG   \n",
       "2             Alfamart Pontianak Mall, Jl Teuku Umar      DARAT SEKIP   \n",
       "3  Parklife, Jl. Karimata No.64, Sungai Bangkong,...          MARIANA   \n",
       "4        Jl. Tabrani Ahmad No.12,  Sungai Jawi Dalam         PAL LIMA   \n",
       "\n",
       "    from_kecamatan               from_latlng  \\\n",
       "0   PONTIANAK KOTA     -0,0303277,109,297753   \n",
       "1   PONTIANAK KOTA       -0,02861,109,329253   \n",
       "2   PONTIANAK KOTA    -0,0301863,109,3356331   \n",
       "3   PONTIANAK KOTA    -0,0305815,109,3264009   \n",
       "4  PONTIANAK BARAT  -0,018461872,109,3075679   \n",
       "\n",
       "                                     to_alamat           to_kelurahan  \\\n",
       "0    Jl. Prof. M.Yamin No.3a,  Sungai Bangkong      BENUA MELAYU LAUT   \n",
       "1  Jl. Dare Nandong Villa Ria Indah,  Tj. Hulu         BANJAR SERASAN   \n",
       "2          Gg. Gn. Malabar No.21,  Sungai Jawi         SUNGAI BELIUNG   \n",
       "3                        Unnamed Road,  Pal IX  BANGKA BELITUNG DARAT   \n",
       "4                         Pal IX,  Kakap River            BANSIR LAUT   \n",
       "\n",
       "         to_kecamatan  ... customer_gender   customer_birthdate  driver_id  \\\n",
       "0   PONTIANAK SELATAN  ...               P  1994-02-05T00:00:00         90   \n",
       "1     PONTIANAK TIMUR  ...               L  2004-04-22T00:00:00         77   \n",
       "2     PONTIANAK BARAT  ...               L  2000-01-07T00:00:00         75   \n",
       "3  PONTIANAK TENGGARA  ...               L  1987-08-02T00:00:00         82   \n",
       "4  PONTIANAK TENGGARA  ...               L  2004-01-23T00:00:00        109   \n",
       "\n",
       "   driver_gender     driver_birthdate  kendaraan_jenis kendaraan_merk  \\\n",
       "0              L  1997-03-24T00:00:00            MOTOR         Yamaha   \n",
       "1              L  1976-07-26T00:00:00            MOTOR            BMW   \n",
       "2              L  1985-12-28T00:00:00            MOTOR            TVS   \n",
       "3              L  1993-06-10T00:00:00            MOTOR         Suzuki   \n",
       "4              P  1988-05-02T00:00:00            MOBIL          Honda   \n",
       "\n",
       "  merchant_id                         merchant_name merchant_category  \n",
       "0         NaN                                   NaN               NaN  \n",
       "1        93.0  Neo Shabu-Shabu Steak & Shake, Johar        RESTAURANT  \n",
       "2       421.0               Alfamart Pontianak Mall     TOKO/SWALAYAN  \n",
       "3       109.0                              Parklife              CAFE  \n",
       "4         NaN                                   NaN               NaN  \n",
       "\n",
       "[5 rows x 26 columns]"
      ]
     },
     "execution_count": 5,
     "metadata": {},
     "output_type": "execute_result"
    }
   ],
   "source": [
    "# Melihat 5 Data teratas\n",
    "df.head()"
   ]
  },
  {
   "cell_type": "code",
   "execution_count": 6,
   "metadata": {
    "colab": {
     "base_uri": "https://localhost:8080/",
     "height": 629
    },
    "id": "jtviVdXSuhb2",
    "outputId": "283811fa-8765-41f0-9918-e3859d8e8f20"
   },
   "outputs": [
    {
     "data": {
      "text/html": [
       "<div>\n",
       "<style scoped>\n",
       "    .dataframe tbody tr th:only-of-type {\n",
       "        vertical-align: middle;\n",
       "    }\n",
       "\n",
       "    .dataframe tbody tr th {\n",
       "        vertical-align: top;\n",
       "    }\n",
       "\n",
       "    .dataframe thead th {\n",
       "        text-align: right;\n",
       "    }\n",
       "</style>\n",
       "<table border=\"1\" class=\"dataframe\">\n",
       "  <thead>\n",
       "    <tr style=\"text-align: right;\">\n",
       "      <th></th>\n",
       "      <th>id</th>\n",
       "      <th>date</th>\n",
       "      <th>mode</th>\n",
       "      <th>from_alamat</th>\n",
       "      <th>from_kelurahan</th>\n",
       "      <th>from_kecamatan</th>\n",
       "      <th>from_latlng</th>\n",
       "      <th>to_alamat</th>\n",
       "      <th>to_kelurahan</th>\n",
       "      <th>to_kecamatan</th>\n",
       "      <th>...</th>\n",
       "      <th>customer_gender</th>\n",
       "      <th>customer_birthdate</th>\n",
       "      <th>driver_id</th>\n",
       "      <th>driver_gender</th>\n",
       "      <th>driver_birthdate</th>\n",
       "      <th>kendaraan_jenis</th>\n",
       "      <th>kendaraan_merk</th>\n",
       "      <th>merchant_id</th>\n",
       "      <th>merchant_name</th>\n",
       "      <th>merchant_category</th>\n",
       "    </tr>\n",
       "  </thead>\n",
       "  <tbody>\n",
       "    <tr>\n",
       "      <th>1012</th>\n",
       "      <td>1639</td>\n",
       "      <td>2018/09/10 18:28 s/d 2018/09/10 15:29</td>\n",
       "      <td>BIKE</td>\n",
       "      <td>Gg. Metal,  Siantan Hulu</td>\n",
       "      <td>SIANTAN HILIR</td>\n",
       "      <td>PONTIANAK UTARA</td>\n",
       "      <td>-0,006927295,109,3522482</td>\n",
       "      <td>Gang Jaya Makmur,  Kota Baru</td>\n",
       "      <td>KOTA BARU</td>\n",
       "      <td>PONTIANAK SELATAN</td>\n",
       "      <td>...</td>\n",
       "      <td>L</td>\n",
       "      <td>2004-04-22T00:00:00</td>\n",
       "      <td>77</td>\n",
       "      <td>L</td>\n",
       "      <td>1976-07-26T00:00:00</td>\n",
       "      <td>MOTOR</td>\n",
       "      <td>BMW</td>\n",
       "      <td>NaN</td>\n",
       "      <td>NaN</td>\n",
       "      <td>NaN</td>\n",
       "    </tr>\n",
       "    <tr>\n",
       "      <th>1013</th>\n",
       "      <td>1123</td>\n",
       "      <td>2018/09/10 15:29 s/d 2018/09/10 14:27</td>\n",
       "      <td>FOOD</td>\n",
       "      <td>Mekuru Ramen House, Jl. Ketapang No.31, Benua ...</td>\n",
       "      <td>BENUA MELAYU LAUT</td>\n",
       "      <td>PONTIANAK SELATAN</td>\n",
       "      <td>-0,0331539,109,344327</td>\n",
       "      <td>Jl. Kebangkitan Nasional,  Siantan Hulu</td>\n",
       "      <td>BATU LAYANG</td>\n",
       "      <td>PONTIANAK UTARA</td>\n",
       "      <td>...</td>\n",
       "      <td>P</td>\n",
       "      <td>1985-12-24T00:00:00</td>\n",
       "      <td>81</td>\n",
       "      <td>L</td>\n",
       "      <td>1991-09-08T00:00:00</td>\n",
       "      <td>MOTOR</td>\n",
       "      <td>BMW</td>\n",
       "      <td>82.0</td>\n",
       "      <td>Mekuru Ramen House</td>\n",
       "      <td>RESTAURANT</td>\n",
       "    </tr>\n",
       "    <tr>\n",
       "      <th>1014</th>\n",
       "      <td>1242</td>\n",
       "      <td>2018/09/10 14:27 s/d 2018/09/10 10:30</td>\n",
       "      <td>FOOD</td>\n",
       "      <td>Pondok Ale-ale, Gg. Suka Damai No.21, Sungai B...</td>\n",
       "      <td>SUNGAI BANGKONG</td>\n",
       "      <td>PONTIANAK KOTA</td>\n",
       "      <td>-0,03718,109,325818</td>\n",
       "      <td>Jl. Swadaya,  Pal IX</td>\n",
       "      <td>BANGKA BELITUNG LAUT</td>\n",
       "      <td>PONTIANAK TENGGARA</td>\n",
       "      <td>...</td>\n",
       "      <td>L</td>\n",
       "      <td>2002-03-26T00:00:00</td>\n",
       "      <td>93</td>\n",
       "      <td>L</td>\n",
       "      <td>1984-12-26T00:00:00</td>\n",
       "      <td>MOTOR</td>\n",
       "      <td>TVS</td>\n",
       "      <td>16.0</td>\n",
       "      <td>Pondok Ale-ale</td>\n",
       "      <td>RESTAURANT</td>\n",
       "    </tr>\n",
       "    <tr>\n",
       "      <th>1015</th>\n",
       "      <td>1779</td>\n",
       "      <td>2018/09/10 10:30 s/d 2018/09/10 09:12</td>\n",
       "      <td>BIKE</td>\n",
       "      <td>Gg. Dharma Putra 17A,  Siantan Hilir</td>\n",
       "      <td>SIANTAN TENGAH</td>\n",
       "      <td>PONTIANAK UTARA</td>\n",
       "      <td>-0,003775875,109,3458342</td>\n",
       "      <td>Gg. Losari No.16,  Sungai Jawi</td>\n",
       "      <td>SUNGAI JAWI LUAR</td>\n",
       "      <td>PONTIANAK BARAT</td>\n",
       "      <td>...</td>\n",
       "      <td>P</td>\n",
       "      <td>1987-07-18T00:00:00</td>\n",
       "      <td>80</td>\n",
       "      <td>L</td>\n",
       "      <td>1987-03-29T00:00:00</td>\n",
       "      <td>MOTOR</td>\n",
       "      <td>TVS</td>\n",
       "      <td>NaN</td>\n",
       "      <td>NaN</td>\n",
       "      <td>NaN</td>\n",
       "    </tr>\n",
       "    <tr>\n",
       "      <th>1016</th>\n",
       "      <td>1228</td>\n",
       "      <td>2018/09/10 09:12 s/d 1900/01/00 00:00</td>\n",
       "      <td>FOOD</td>\n",
       "      <td>Pak Kumis, Jl. Husin Hanzah No.2A, Pal Lima, P...</td>\n",
       "      <td>DARAT SEKIP</td>\n",
       "      <td>PONTIANAK KOTA</td>\n",
       "      <td>-0,031872,109,293303</td>\n",
       "      <td>Unnamed Road,  Parit Tokaya</td>\n",
       "      <td>BENUA MELAYU DARAT</td>\n",
       "      <td>PONTIANAK SELATAN</td>\n",
       "      <td>...</td>\n",
       "      <td>L</td>\n",
       "      <td>1988-05-03T00:00:00</td>\n",
       "      <td>102</td>\n",
       "      <td>P</td>\n",
       "      <td>1993-04-23T00:00:00</td>\n",
       "      <td>MOTOR</td>\n",
       "      <td>Kawasaki</td>\n",
       "      <td>264.0</td>\n",
       "      <td>Pak Kumis</td>\n",
       "      <td>WARUNG MAKAN</td>\n",
       "    </tr>\n",
       "  </tbody>\n",
       "</table>\n",
       "<p>5 rows × 26 columns</p>\n",
       "</div>"
      ],
      "text/plain": [
       "        id                                   date  mode  \\\n",
       "1012  1639  2018/09/10 18:28 s/d 2018/09/10 15:29  BIKE   \n",
       "1013  1123  2018/09/10 15:29 s/d 2018/09/10 14:27  FOOD   \n",
       "1014  1242  2018/09/10 14:27 s/d 2018/09/10 10:30  FOOD   \n",
       "1015  1779  2018/09/10 10:30 s/d 2018/09/10 09:12  BIKE   \n",
       "1016  1228  2018/09/10 09:12 s/d 1900/01/00 00:00  FOOD   \n",
       "\n",
       "                                            from_alamat     from_kelurahan  \\\n",
       "1012                           Gg. Metal,  Siantan Hulu      SIANTAN HILIR   \n",
       "1013  Mekuru Ramen House, Jl. Ketapang No.31, Benua ...  BENUA MELAYU LAUT   \n",
       "1014  Pondok Ale-ale, Gg. Suka Damai No.21, Sungai B...    SUNGAI BANGKONG   \n",
       "1015               Gg. Dharma Putra 17A,  Siantan Hilir     SIANTAN TENGAH   \n",
       "1016  Pak Kumis, Jl. Husin Hanzah No.2A, Pal Lima, P...        DARAT SEKIP   \n",
       "\n",
       "         from_kecamatan               from_latlng  \\\n",
       "1012    PONTIANAK UTARA  -0,006927295,109,3522482   \n",
       "1013  PONTIANAK SELATAN     -0,0331539,109,344327   \n",
       "1014     PONTIANAK KOTA       -0,03718,109,325818   \n",
       "1015    PONTIANAK UTARA  -0,003775875,109,3458342   \n",
       "1016     PONTIANAK KOTA      -0,031872,109,293303   \n",
       "\n",
       "                                    to_alamat          to_kelurahan  \\\n",
       "1012             Gang Jaya Makmur,  Kota Baru             KOTA BARU   \n",
       "1013  Jl. Kebangkitan Nasional,  Siantan Hulu           BATU LAYANG   \n",
       "1014                     Jl. Swadaya,  Pal IX  BANGKA BELITUNG LAUT   \n",
       "1015           Gg. Losari No.16,  Sungai Jawi      SUNGAI JAWI LUAR   \n",
       "1016              Unnamed Road,  Parit Tokaya    BENUA MELAYU DARAT   \n",
       "\n",
       "            to_kecamatan  ... customer_gender   customer_birthdate  driver_id  \\\n",
       "1012   PONTIANAK SELATAN  ...               L  2004-04-22T00:00:00         77   \n",
       "1013     PONTIANAK UTARA  ...               P  1985-12-24T00:00:00         81   \n",
       "1014  PONTIANAK TENGGARA  ...               L  2002-03-26T00:00:00         93   \n",
       "1015     PONTIANAK BARAT  ...               P  1987-07-18T00:00:00         80   \n",
       "1016   PONTIANAK SELATAN  ...               L  1988-05-03T00:00:00        102   \n",
       "\n",
       "      driver_gender     driver_birthdate  kendaraan_jenis kendaraan_merk  \\\n",
       "1012              L  1976-07-26T00:00:00            MOTOR            BMW   \n",
       "1013              L  1991-09-08T00:00:00            MOTOR            BMW   \n",
       "1014              L  1984-12-26T00:00:00            MOTOR            TVS   \n",
       "1015              L  1987-03-29T00:00:00            MOTOR            TVS   \n",
       "1016              P  1993-04-23T00:00:00            MOTOR       Kawasaki   \n",
       "\n",
       "     merchant_id       merchant_name merchant_category  \n",
       "1012         NaN                 NaN               NaN  \n",
       "1013        82.0  Mekuru Ramen House        RESTAURANT  \n",
       "1014        16.0      Pondok Ale-ale        RESTAURANT  \n",
       "1015         NaN                 NaN               NaN  \n",
       "1016       264.0           Pak Kumis      WARUNG MAKAN  \n",
       "\n",
       "[5 rows x 26 columns]"
      ]
     },
     "execution_count": 6,
     "metadata": {},
     "output_type": "execute_result"
    }
   ],
   "source": [
    "# Melihat 5 data terbawah\n",
    "df.tail()"
   ]
  },
  {
   "cell_type": "code",
   "execution_count": 7,
   "metadata": {
    "colab": {
     "base_uri": "https://localhost:8080/"
    },
    "id": "LQfdCVA5ulAM",
    "outputId": "934be73b-32f5-473a-d40f-2e07bb6cbb3b"
   },
   "outputs": [
    {
     "name": "stdout",
     "output_type": "stream",
     "text": [
      "categorical: ['date', 'mode', 'from_alamat', 'from_kelurahan', 'from_kecamatan', 'from_latlng', 'to_alamat', 'to_kelurahan', 'to_kecamatan', 'to_latlng', 'customer_gender', 'customer_birthdate', 'driver_gender', 'driver_birthdate', 'kendaraan_jenis', 'kendaraan_merk', 'merchant_name', 'merchant_category'] \n",
      " integer: ['id', 'amount_delivery', 'amount_merchant', 'transaction_amount_total', 'customer_id', 'driver_id'] \n",
      " numerical:  ['id', 'distance', 'amount_delivery', 'amount_merchant', 'transaction_amount_total', 'customer_id', 'driver_id', 'merchant_id']\n"
     ]
    }
   ],
   "source": [
    "# Mengelompokkan tiap kolom berdasarkan kategorikal, int, dan numerikal\n",
    "\n",
    "# Variabel bertipe kategorik\n",
    "categorical = list(df.select_dtypes(include=['object']).columns)\n",
    "\n",
    "# Variabel bertipe int\n",
    "integer = list(df.select_dtypes(include=['int']).columns)\n",
    "\n",
    "# Variabel bertipe numerik\n",
    "numerical = list(df.select_dtypes(exclude=['object']).columns)\n",
    "\n",
    "# Menampilkan kolom-kolom kategorikal, int, dan numerikal\n",
    "print('categorical:', categorical, '\\n', 'integer:',integer, '\\n', 'numerical: ', numerical)"
   ]
  },
  {
   "cell_type": "code",
   "execution_count": 8,
   "metadata": {
    "colab": {
     "base_uri": "https://localhost:8080/"
    },
    "id": "M56qOdZSv25-",
    "outputId": "b449234d-971f-40fd-a4af-5fae7ccd605a"
   },
   "outputs": [
    {
     "data": {
      "text/plain": [
       "id                            0\n",
       "date                          0\n",
       "mode                          0\n",
       "from_alamat                   0\n",
       "from_kelurahan                0\n",
       "from_kecamatan                0\n",
       "from_latlng                   0\n",
       "to_alamat                     3\n",
       "to_kelurahan                  0\n",
       "to_kecamatan                  0\n",
       "to_latlng                     0\n",
       "distance                      0\n",
       "amount_delivery               0\n",
       "amount_merchant               0\n",
       "transaction_amount_total      0\n",
       "customer_id                   0\n",
       "customer_gender               0\n",
       "customer_birthdate            0\n",
       "driver_id                     0\n",
       "driver_gender                 0\n",
       "driver_birthdate              0\n",
       "kendaraan_jenis               0\n",
       "kendaraan_merk                0\n",
       "merchant_id                 567\n",
       "merchant_name               567\n",
       "merchant_category           567\n",
       "dtype: int64"
      ]
     },
     "execution_count": 8,
     "metadata": {},
     "output_type": "execute_result"
    }
   ],
   "source": [
    "# Mengecek missing values pada dataset\n",
    "df.isnull().sum()"
   ]
  },
  {
   "cell_type": "code",
   "execution_count": 9,
   "metadata": {
    "colab": {
     "base_uri": "https://localhost:8080/"
    },
    "id": "1q82KWubip3J",
    "outputId": "a20d32e3-7988-4d1e-98db-3218f81b2fb8"
   },
   "outputs": [
    {
     "name": "stdout",
     "output_type": "stream",
     "text": [
      "id                            0\n",
      "date                          0\n",
      "mode                          0\n",
      "from_alamat                   0\n",
      "from_kelurahan                0\n",
      "from_kecamatan                0\n",
      "from_latlng                   0\n",
      "to_alamat                     3\n",
      "to_kelurahan                  0\n",
      "to_kecamatan                  0\n",
      "to_latlng                     0\n",
      "distance                      0\n",
      "amount_delivery               0\n",
      "amount_merchant               0\n",
      "transaction_amount_total      0\n",
      "customer_id                   0\n",
      "customer_gender               0\n",
      "customer_birthdate            0\n",
      "driver_id                     0\n",
      "driver_gender                 0\n",
      "driver_birthdate              0\n",
      "kendaraan_jenis               0\n",
      "kendaraan_merk                0\n",
      "merchant_id                 567\n",
      "merchant_name               567\n",
      "merchant_category           567\n",
      "dtype: int64\n"
     ]
    }
   ],
   "source": [
    "nan_values = df.isna().sum()\n",
    "print(nan_values)"
   ]
  },
  {
   "cell_type": "code",
   "execution_count": 10,
   "metadata": {
    "colab": {
     "base_uri": "https://localhost:8080/"
    },
    "id": "yxy00qqAv9Hu",
    "outputId": "57fdf201-ec0f-401d-c096-92e3c8eabe7b"
   },
   "outputs": [
    {
     "data": {
      "text/plain": [
       "id                            0.0 %\n",
       "distance                      0.0 %\n",
       "amount_delivery               0.0 %\n",
       "amount_merchant               0.0 %\n",
       "transaction_amount_total      0.0 %\n",
       "customer_id                   0.0 %\n",
       "driver_id                     0.0 %\n",
       "merchant_id                 55.75 %\n",
       "dtype: object"
      ]
     },
     "execution_count": 10,
     "metadata": {},
     "output_type": "execute_result"
    }
   ],
   "source": [
    "# Menghitung persentase missing values pada setiap atribut yang bersifat numerikal\n",
    "df[numerical].apply(lambda x: f'{((x.isnull().sum()/df.shape[0])*100).round(2)} %').sort_values(ascending=True)"
   ]
  },
  {
   "cell_type": "code",
   "execution_count": 11,
   "metadata": {
    "colab": {
     "base_uri": "https://localhost:8080/"
    },
    "id": "BELiWYzowbQb",
    "outputId": "d68f7903-eb98-4527-85b7-95487fd7fcbd"
   },
   "outputs": [
    {
     "data": {
      "text/plain": [
       "date                    0.0 %\n",
       "kendaraan_merk          0.0 %\n",
       "kendaraan_jenis         0.0 %\n",
       "driver_birthdate        0.0 %\n",
       "driver_gender           0.0 %\n",
       "customer_birthdate      0.0 %\n",
       "customer_gender         0.0 %\n",
       "to_latlng               0.0 %\n",
       "to_kecamatan            0.0 %\n",
       "to_kelurahan            0.0 %\n",
       "from_latlng             0.0 %\n",
       "from_kecamatan          0.0 %\n",
       "from_kelurahan          0.0 %\n",
       "from_alamat             0.0 %\n",
       "mode                    0.0 %\n",
       "to_alamat              0.29 %\n",
       "merchant_name         55.75 %\n",
       "merchant_category     55.75 %\n",
       "dtype: object"
      ]
     },
     "execution_count": 11,
     "metadata": {},
     "output_type": "execute_result"
    }
   ],
   "source": [
    "# Menghitung persentase missing values pada setiap atribut yang bersifat categorical\n",
    "df[categorical].apply(lambda x: f'{((x.isnull().sum()/df.shape[0])*100).round(2)} %').sort_values(ascending=True)"
   ]
  },
  {
   "cell_type": "code",
   "execution_count": 12,
   "metadata": {
    "colab": {
     "base_uri": "https://localhost:8080/"
    },
    "id": "_9Rzu7muwmuE",
    "outputId": "efa3da9d-7628-48ff-b527-11ae39f6f638"
   },
   "outputs": [
    {
     "data": {
      "text/plain": [
       "id                          0.0 %\n",
       "amount_delivery             0.0 %\n",
       "amount_merchant             0.0 %\n",
       "transaction_amount_total    0.0 %\n",
       "customer_id                 0.0 %\n",
       "driver_id                   0.0 %\n",
       "dtype: object"
      ]
     },
     "execution_count": 12,
     "metadata": {},
     "output_type": "execute_result"
    }
   ],
   "source": [
    "# Menghitung persentase missing values pada setiap atribut yang bersifat int\n",
    "df[integer].apply(lambda x: f'{((x.isnull().sum()/df.shape[0])*100).round(2)} %').sort_values(ascending=True)"
   ]
  },
  {
   "cell_type": "code",
   "execution_count": 13,
   "metadata": {
    "colab": {
     "base_uri": "https://localhost:8080/",
     "height": 300
    },
    "id": "ZB6kmWsdxJzj",
    "outputId": "4f6eb2ca-52b2-4c20-81ac-d7d5598b420e"
   },
   "outputs": [
    {
     "data": {
      "text/html": [
       "<div>\n",
       "<style scoped>\n",
       "    .dataframe tbody tr th:only-of-type {\n",
       "        vertical-align: middle;\n",
       "    }\n",
       "\n",
       "    .dataframe tbody tr th {\n",
       "        vertical-align: top;\n",
       "    }\n",
       "\n",
       "    .dataframe thead th {\n",
       "        text-align: right;\n",
       "    }\n",
       "</style>\n",
       "<table border=\"1\" class=\"dataframe\">\n",
       "  <thead>\n",
       "    <tr style=\"text-align: right;\">\n",
       "      <th></th>\n",
       "      <th>id</th>\n",
       "      <th>distance</th>\n",
       "      <th>amount_delivery</th>\n",
       "      <th>amount_merchant</th>\n",
       "      <th>transaction_amount_total</th>\n",
       "      <th>customer_id</th>\n",
       "      <th>driver_id</th>\n",
       "      <th>merchant_id</th>\n",
       "    </tr>\n",
       "  </thead>\n",
       "  <tbody>\n",
       "    <tr>\n",
       "      <th>count</th>\n",
       "      <td>1017.000000</td>\n",
       "      <td>1017.00000</td>\n",
       "      <td>1017.000000</td>\n",
       "      <td>1017.000000</td>\n",
       "      <td>1017.000000</td>\n",
       "      <td>1017.000000</td>\n",
       "      <td>1017.000000</td>\n",
       "      <td>450.000000</td>\n",
       "    </tr>\n",
       "    <tr>\n",
       "      <th>mean</th>\n",
       "      <td>1621.648968</td>\n",
       "      <td>12.51414</td>\n",
       "      <td>8393.313668</td>\n",
       "      <td>27813.667650</td>\n",
       "      <td>36206.981318</td>\n",
       "      <td>38.958702</td>\n",
       "      <td>92.278269</td>\n",
       "      <td>285.235556</td>\n",
       "    </tr>\n",
       "    <tr>\n",
       "      <th>std</th>\n",
       "      <td>296.954571</td>\n",
       "      <td>62.16401</td>\n",
       "      <td>5744.174945</td>\n",
       "      <td>34146.272897</td>\n",
       "      <td>34533.405322</td>\n",
       "      <td>21.171922</td>\n",
       "      <td>9.936622</td>\n",
       "      <td>156.184283</td>\n",
       "    </tr>\n",
       "    <tr>\n",
       "      <th>min</th>\n",
       "      <td>1101.000000</td>\n",
       "      <td>2.09000</td>\n",
       "      <td>500.000000</td>\n",
       "      <td>0.000000</td>\n",
       "      <td>500.000000</td>\n",
       "      <td>1.000000</td>\n",
       "      <td>75.000000</td>\n",
       "      <td>12.000000</td>\n",
       "    </tr>\n",
       "    <tr>\n",
       "      <th>25%</th>\n",
       "      <td>1367.000000</td>\n",
       "      <td>5.25000</td>\n",
       "      <td>4000.000000</td>\n",
       "      <td>0.000000</td>\n",
       "      <td>5000.000000</td>\n",
       "      <td>21.000000</td>\n",
       "      <td>84.000000</td>\n",
       "      <td>100.000000</td>\n",
       "    </tr>\n",
       "    <tr>\n",
       "      <th>50%</th>\n",
       "      <td>1624.000000</td>\n",
       "      <td>6.93000</td>\n",
       "      <td>7000.000000</td>\n",
       "      <td>0.000000</td>\n",
       "      <td>19200.000000</td>\n",
       "      <td>40.000000</td>\n",
       "      <td>93.000000</td>\n",
       "      <td>357.500000</td>\n",
       "    </tr>\n",
       "    <tr>\n",
       "      <th>75%</th>\n",
       "      <td>1878.000000</td>\n",
       "      <td>9.20000</td>\n",
       "      <td>11000.000000</td>\n",
       "      <td>58500.000000</td>\n",
       "      <td>66000.000000</td>\n",
       "      <td>57.000000</td>\n",
       "      <td>101.000000</td>\n",
       "      <td>421.000000</td>\n",
       "    </tr>\n",
       "    <tr>\n",
       "      <th>max</th>\n",
       "      <td>2132.000000</td>\n",
       "      <td>762.13000</td>\n",
       "      <td>32400.000000</td>\n",
       "      <td>100000.000000</td>\n",
       "      <td>117000.000000</td>\n",
       "      <td>74.000000</td>\n",
       "      <td>109.000000</td>\n",
       "      <td>426.000000</td>\n",
       "    </tr>\n",
       "  </tbody>\n",
       "</table>\n",
       "</div>"
      ],
      "text/plain": [
       "                id    distance  amount_delivery  amount_merchant  \\\n",
       "count  1017.000000  1017.00000      1017.000000      1017.000000   \n",
       "mean   1621.648968    12.51414      8393.313668     27813.667650   \n",
       "std     296.954571    62.16401      5744.174945     34146.272897   \n",
       "min    1101.000000     2.09000       500.000000         0.000000   \n",
       "25%    1367.000000     5.25000      4000.000000         0.000000   \n",
       "50%    1624.000000     6.93000      7000.000000         0.000000   \n",
       "75%    1878.000000     9.20000     11000.000000     58500.000000   \n",
       "max    2132.000000   762.13000     32400.000000    100000.000000   \n",
       "\n",
       "       transaction_amount_total  customer_id    driver_id  merchant_id  \n",
       "count               1017.000000  1017.000000  1017.000000   450.000000  \n",
       "mean               36206.981318    38.958702    92.278269   285.235556  \n",
       "std                34533.405322    21.171922     9.936622   156.184283  \n",
       "min                  500.000000     1.000000    75.000000    12.000000  \n",
       "25%                 5000.000000    21.000000    84.000000   100.000000  \n",
       "50%                19200.000000    40.000000    93.000000   357.500000  \n",
       "75%                66000.000000    57.000000   101.000000   421.000000  \n",
       "max               117000.000000    74.000000   109.000000   426.000000  "
      ]
     },
     "execution_count": 13,
     "metadata": {},
     "output_type": "execute_result"
    }
   ],
   "source": [
    "# Melihat deskripsi statistik dasar dari tiap atribut numerikal\n",
    "df[numerical].describe()"
   ]
  },
  {
   "cell_type": "code",
   "execution_count": 14,
   "metadata": {
    "colab": {
     "base_uri": "https://localhost:8080/",
     "height": 300
    },
    "id": "qJoW-sq4i7sY",
    "outputId": "223ae52a-4dc8-451b-9e76-eca258ea163e"
   },
   "outputs": [
    {
     "data": {
      "text/html": [
       "<div>\n",
       "<style scoped>\n",
       "    .dataframe tbody tr th:only-of-type {\n",
       "        vertical-align: middle;\n",
       "    }\n",
       "\n",
       "    .dataframe tbody tr th {\n",
       "        vertical-align: top;\n",
       "    }\n",
       "\n",
       "    .dataframe thead th {\n",
       "        text-align: right;\n",
       "    }\n",
       "</style>\n",
       "<table border=\"1\" class=\"dataframe\">\n",
       "  <thead>\n",
       "    <tr style=\"text-align: right;\">\n",
       "      <th></th>\n",
       "      <th>id</th>\n",
       "      <th>amount_delivery</th>\n",
       "      <th>amount_merchant</th>\n",
       "      <th>transaction_amount_total</th>\n",
       "      <th>customer_id</th>\n",
       "      <th>driver_id</th>\n",
       "    </tr>\n",
       "  </thead>\n",
       "  <tbody>\n",
       "    <tr>\n",
       "      <th>count</th>\n",
       "      <td>1017.000000</td>\n",
       "      <td>1017.000000</td>\n",
       "      <td>1017.000000</td>\n",
       "      <td>1017.000000</td>\n",
       "      <td>1017.000000</td>\n",
       "      <td>1017.000000</td>\n",
       "    </tr>\n",
       "    <tr>\n",
       "      <th>mean</th>\n",
       "      <td>1621.648968</td>\n",
       "      <td>8393.313668</td>\n",
       "      <td>27813.667650</td>\n",
       "      <td>36206.981318</td>\n",
       "      <td>38.958702</td>\n",
       "      <td>92.278269</td>\n",
       "    </tr>\n",
       "    <tr>\n",
       "      <th>std</th>\n",
       "      <td>296.954571</td>\n",
       "      <td>5744.174945</td>\n",
       "      <td>34146.272897</td>\n",
       "      <td>34533.405322</td>\n",
       "      <td>21.171922</td>\n",
       "      <td>9.936622</td>\n",
       "    </tr>\n",
       "    <tr>\n",
       "      <th>min</th>\n",
       "      <td>1101.000000</td>\n",
       "      <td>500.000000</td>\n",
       "      <td>0.000000</td>\n",
       "      <td>500.000000</td>\n",
       "      <td>1.000000</td>\n",
       "      <td>75.000000</td>\n",
       "    </tr>\n",
       "    <tr>\n",
       "      <th>25%</th>\n",
       "      <td>1367.000000</td>\n",
       "      <td>4000.000000</td>\n",
       "      <td>0.000000</td>\n",
       "      <td>5000.000000</td>\n",
       "      <td>21.000000</td>\n",
       "      <td>84.000000</td>\n",
       "    </tr>\n",
       "    <tr>\n",
       "      <th>50%</th>\n",
       "      <td>1624.000000</td>\n",
       "      <td>7000.000000</td>\n",
       "      <td>0.000000</td>\n",
       "      <td>19200.000000</td>\n",
       "      <td>40.000000</td>\n",
       "      <td>93.000000</td>\n",
       "    </tr>\n",
       "    <tr>\n",
       "      <th>75%</th>\n",
       "      <td>1878.000000</td>\n",
       "      <td>11000.000000</td>\n",
       "      <td>58500.000000</td>\n",
       "      <td>66000.000000</td>\n",
       "      <td>57.000000</td>\n",
       "      <td>101.000000</td>\n",
       "    </tr>\n",
       "    <tr>\n",
       "      <th>max</th>\n",
       "      <td>2132.000000</td>\n",
       "      <td>32400.000000</td>\n",
       "      <td>100000.000000</td>\n",
       "      <td>117000.000000</td>\n",
       "      <td>74.000000</td>\n",
       "      <td>109.000000</td>\n",
       "    </tr>\n",
       "  </tbody>\n",
       "</table>\n",
       "</div>"
      ],
      "text/plain": [
       "                id  amount_delivery  amount_merchant  \\\n",
       "count  1017.000000      1017.000000      1017.000000   \n",
       "mean   1621.648968      8393.313668     27813.667650   \n",
       "std     296.954571      5744.174945     34146.272897   \n",
       "min    1101.000000       500.000000         0.000000   \n",
       "25%    1367.000000      4000.000000         0.000000   \n",
       "50%    1624.000000      7000.000000         0.000000   \n",
       "75%    1878.000000     11000.000000     58500.000000   \n",
       "max    2132.000000     32400.000000    100000.000000   \n",
       "\n",
       "       transaction_amount_total  customer_id    driver_id  \n",
       "count               1017.000000  1017.000000  1017.000000  \n",
       "mean               36206.981318    38.958702    92.278269  \n",
       "std                34533.405322    21.171922     9.936622  \n",
       "min                  500.000000     1.000000    75.000000  \n",
       "25%                 5000.000000    21.000000    84.000000  \n",
       "50%                19200.000000    40.000000    93.000000  \n",
       "75%                66000.000000    57.000000   101.000000  \n",
       "max               117000.000000    74.000000   109.000000  "
      ]
     },
     "execution_count": 14,
     "metadata": {},
     "output_type": "execute_result"
    }
   ],
   "source": [
    "# Melihat deskripsi statistik dasar dari tiap atribut int\n",
    "df[integer].describe()"
   ]
  },
  {
   "cell_type": "code",
   "execution_count": 15,
   "metadata": {
    "colab": {
     "base_uri": "https://localhost:8080/",
     "height": 291
    },
    "id": "3iH7Pma5i_nb",
    "outputId": "9c223d94-9361-4d0f-8bfc-2401f55dc9f4"
   },
   "outputs": [
    {
     "data": {
      "text/html": [
       "<div>\n",
       "<style scoped>\n",
       "    .dataframe tbody tr th:only-of-type {\n",
       "        vertical-align: middle;\n",
       "    }\n",
       "\n",
       "    .dataframe tbody tr th {\n",
       "        vertical-align: top;\n",
       "    }\n",
       "\n",
       "    .dataframe thead th {\n",
       "        text-align: right;\n",
       "    }\n",
       "</style>\n",
       "<table border=\"1\" class=\"dataframe\">\n",
       "  <thead>\n",
       "    <tr style=\"text-align: right;\">\n",
       "      <th></th>\n",
       "      <th>date</th>\n",
       "      <th>mode</th>\n",
       "      <th>from_alamat</th>\n",
       "      <th>from_kelurahan</th>\n",
       "      <th>from_kecamatan</th>\n",
       "      <th>from_latlng</th>\n",
       "      <th>to_alamat</th>\n",
       "      <th>to_kelurahan</th>\n",
       "      <th>to_kecamatan</th>\n",
       "      <th>to_latlng</th>\n",
       "      <th>customer_gender</th>\n",
       "      <th>customer_birthdate</th>\n",
       "      <th>driver_gender</th>\n",
       "      <th>driver_birthdate</th>\n",
       "      <th>kendaraan_jenis</th>\n",
       "      <th>kendaraan_merk</th>\n",
       "      <th>merchant_name</th>\n",
       "      <th>merchant_category</th>\n",
       "    </tr>\n",
       "  </thead>\n",
       "  <tbody>\n",
       "    <tr>\n",
       "      <th>count</th>\n",
       "      <td>1017</td>\n",
       "      <td>1017</td>\n",
       "      <td>1017</td>\n",
       "      <td>1017</td>\n",
       "      <td>1017</td>\n",
       "      <td>1017</td>\n",
       "      <td>1014</td>\n",
       "      <td>1017</td>\n",
       "      <td>1017</td>\n",
       "      <td>1017</td>\n",
       "      <td>1017</td>\n",
       "      <td>1017</td>\n",
       "      <td>1017</td>\n",
       "      <td>1017</td>\n",
       "      <td>1017</td>\n",
       "      <td>1017</td>\n",
       "      <td>450</td>\n",
       "      <td>450</td>\n",
       "    </tr>\n",
       "    <tr>\n",
       "      <th>unique</th>\n",
       "      <td>1017</td>\n",
       "      <td>4</td>\n",
       "      <td>504</td>\n",
       "      <td>29</td>\n",
       "      <td>6</td>\n",
       "      <td>643</td>\n",
       "      <td>733</td>\n",
       "      <td>29</td>\n",
       "      <td>6</td>\n",
       "      <td>1017</td>\n",
       "      <td>2</td>\n",
       "      <td>74</td>\n",
       "      <td>2</td>\n",
       "      <td>35</td>\n",
       "      <td>2</td>\n",
       "      <td>11</td>\n",
       "      <td>78</td>\n",
       "      <td>5</td>\n",
       "    </tr>\n",
       "    <tr>\n",
       "      <th>top</th>\n",
       "      <td>2019/03/09 20:45 s/d 2019/03/09 19:55</td>\n",
       "      <td>BIKE</td>\n",
       "      <td>Unnamed Road,  Pal IX</td>\n",
       "      <td>DARAT SEKIP</td>\n",
       "      <td>PONTIANAK KOTA</td>\n",
       "      <td>-0,008582,109,361511</td>\n",
       "      <td>Unnamed Road,  Pal IX</td>\n",
       "      <td>PAL LIMA</td>\n",
       "      <td>PONTIANAK TIMUR</td>\n",
       "      <td>-0,061345224,109,305406</td>\n",
       "      <td>P</td>\n",
       "      <td>1984-01-08T00:00:00</td>\n",
       "      <td>L</td>\n",
       "      <td>1983-11-23T00:00:00</td>\n",
       "      <td>MOTOR</td>\n",
       "      <td>BMW</td>\n",
       "      <td>Alfamart Siantan Hulu</td>\n",
       "      <td>TOKO/SWALAYAN</td>\n",
       "    </tr>\n",
       "    <tr>\n",
       "      <th>freq</th>\n",
       "      <td>1</td>\n",
       "      <td>325</td>\n",
       "      <td>64</td>\n",
       "      <td>92</td>\n",
       "      <td>284</td>\n",
       "      <td>27</td>\n",
       "      <td>76</td>\n",
       "      <td>54</td>\n",
       "      <td>190</td>\n",
       "      <td>1</td>\n",
       "      <td>529</td>\n",
       "      <td>23</td>\n",
       "      <td>728</td>\n",
       "      <td>44</td>\n",
       "      <td>775</td>\n",
       "      <td>216</td>\n",
       "      <td>27</td>\n",
       "      <td>185</td>\n",
       "    </tr>\n",
       "  </tbody>\n",
       "</table>\n",
       "</div>"
      ],
      "text/plain": [
       "                                         date  mode            from_alamat  \\\n",
       "count                                    1017  1017                   1017   \n",
       "unique                                   1017     4                    504   \n",
       "top     2019/03/09 20:45 s/d 2019/03/09 19:55  BIKE  Unnamed Road,  Pal IX   \n",
       "freq                                        1   325                     64   \n",
       "\n",
       "       from_kelurahan  from_kecamatan           from_latlng  \\\n",
       "count            1017            1017                  1017   \n",
       "unique             29               6                   643   \n",
       "top       DARAT SEKIP  PONTIANAK KOTA  -0,008582,109,361511   \n",
       "freq               92             284                    27   \n",
       "\n",
       "                    to_alamat to_kelurahan     to_kecamatan  \\\n",
       "count                    1014         1017             1017   \n",
       "unique                    733           29                6   \n",
       "top     Unnamed Road,  Pal IX     PAL LIMA  PONTIANAK TIMUR   \n",
       "freq                       76           54              190   \n",
       "\n",
       "                      to_latlng customer_gender   customer_birthdate  \\\n",
       "count                      1017            1017                 1017   \n",
       "unique                     1017               2                   74   \n",
       "top     -0,061345224,109,305406               P  1984-01-08T00:00:00   \n",
       "freq                          1             529                   23   \n",
       "\n",
       "       driver_gender     driver_birthdate kendaraan_jenis kendaraan_merk  \\\n",
       "count           1017                 1017            1017           1017   \n",
       "unique             2                   35               2             11   \n",
       "top                L  1983-11-23T00:00:00           MOTOR            BMW   \n",
       "freq             728                   44             775            216   \n",
       "\n",
       "                merchant_name merchant_category  \n",
       "count                     450               450  \n",
       "unique                     78                 5  \n",
       "top     Alfamart Siantan Hulu     TOKO/SWALAYAN  \n",
       "freq                       27               185  "
      ]
     },
     "execution_count": 15,
     "metadata": {},
     "output_type": "execute_result"
    }
   ],
   "source": [
    "# Melihat deskripsi statistik dasar dari tiap atribut categorical\n",
    "df[categorical].describe()"
   ]
  },
  {
   "cell_type": "code",
   "execution_count": 16,
   "metadata": {
    "colab": {
     "base_uri": "https://localhost:8080/"
    },
    "id": "NF8JKtd3W4pT",
    "outputId": "be15d188-6fe3-44bf-ef11-093ad034d1f8"
   },
   "outputs": [
    {
     "data": {
      "text/plain": [
       "BIKE    325\n",
       "FOOD    265\n",
       "CAR     242\n",
       "SHOP    185\n",
       "Name: mode, dtype: int64"
      ]
     },
     "execution_count": 16,
     "metadata": {},
     "output_type": "execute_result"
    }
   ],
   "source": [
    "df['mode'].value_counts()"
   ]
  },
  {
   "cell_type": "code",
   "execution_count": 17,
   "metadata": {
    "colab": {
     "base_uri": "https://localhost:8080/",
     "height": 457
    },
    "id": "3x5UG9enXAjA",
    "outputId": "4d5d99d9-7433-4254-964b-db587872ed6d"
   },
   "outputs": [
    {
     "data": {
      "text/html": [
       "<div>\n",
       "<style scoped>\n",
       "    .dataframe tbody tr th:only-of-type {\n",
       "        vertical-align: middle;\n",
       "    }\n",
       "\n",
       "    .dataframe tbody tr th {\n",
       "        vertical-align: top;\n",
       "    }\n",
       "\n",
       "    .dataframe thead th {\n",
       "        text-align: right;\n",
       "    }\n",
       "</style>\n",
       "<table border=\"1\" class=\"dataframe\">\n",
       "  <thead>\n",
       "    <tr style=\"text-align: right;\">\n",
       "      <th></th>\n",
       "      <th>kendaraan_jenis</th>\n",
       "      <th>kendaraan_merk</th>\n",
       "      <th>total</th>\n",
       "    </tr>\n",
       "  </thead>\n",
       "  <tbody>\n",
       "    <tr>\n",
       "      <th>0</th>\n",
       "      <td>MOBIL</td>\n",
       "      <td>Audi</td>\n",
       "      <td>26</td>\n",
       "    </tr>\n",
       "    <tr>\n",
       "      <th>1</th>\n",
       "      <td>MOBIL</td>\n",
       "      <td>BMW</td>\n",
       "      <td>31</td>\n",
       "    </tr>\n",
       "    <tr>\n",
       "      <th>2</th>\n",
       "      <td>MOBIL</td>\n",
       "      <td>Honda</td>\n",
       "      <td>64</td>\n",
       "    </tr>\n",
       "    <tr>\n",
       "      <th>3</th>\n",
       "      <td>MOBIL</td>\n",
       "      <td>KIA</td>\n",
       "      <td>35</td>\n",
       "    </tr>\n",
       "    <tr>\n",
       "      <th>4</th>\n",
       "      <td>MOBIL</td>\n",
       "      <td>Mitsubishi</td>\n",
       "      <td>33</td>\n",
       "    </tr>\n",
       "    <tr>\n",
       "      <th>5</th>\n",
       "      <td>MOBIL</td>\n",
       "      <td>Toyota</td>\n",
       "      <td>28</td>\n",
       "    </tr>\n",
       "    <tr>\n",
       "      <th>6</th>\n",
       "      <td>MOBIL</td>\n",
       "      <td>Volvo</td>\n",
       "      <td>25</td>\n",
       "    </tr>\n",
       "    <tr>\n",
       "      <th>7</th>\n",
       "      <td>MOTOR</td>\n",
       "      <td>BMW</td>\n",
       "      <td>185</td>\n",
       "    </tr>\n",
       "    <tr>\n",
       "      <th>8</th>\n",
       "      <td>MOTOR</td>\n",
       "      <td>Honda</td>\n",
       "      <td>146</td>\n",
       "    </tr>\n",
       "    <tr>\n",
       "      <th>9</th>\n",
       "      <td>MOTOR</td>\n",
       "      <td>Kawasaki</td>\n",
       "      <td>122</td>\n",
       "    </tr>\n",
       "    <tr>\n",
       "      <th>10</th>\n",
       "      <td>MOTOR</td>\n",
       "      <td>Suzuki</td>\n",
       "      <td>84</td>\n",
       "    </tr>\n",
       "    <tr>\n",
       "      <th>11</th>\n",
       "      <td>MOTOR</td>\n",
       "      <td>TVS</td>\n",
       "      <td>121</td>\n",
       "    </tr>\n",
       "    <tr>\n",
       "      <th>12</th>\n",
       "      <td>MOTOR</td>\n",
       "      <td>Yamaha</td>\n",
       "      <td>117</td>\n",
       "    </tr>\n",
       "  </tbody>\n",
       "</table>\n",
       "</div>"
      ],
      "text/plain": [
       "   kendaraan_jenis kendaraan_merk  total\n",
       "0            MOBIL           Audi     26\n",
       "1            MOBIL            BMW     31\n",
       "2            MOBIL          Honda     64\n",
       "3            MOBIL            KIA     35\n",
       "4            MOBIL     Mitsubishi     33\n",
       "5            MOBIL         Toyota     28\n",
       "6            MOBIL          Volvo     25\n",
       "7            MOTOR            BMW    185\n",
       "8            MOTOR          Honda    146\n",
       "9            MOTOR       Kawasaki    122\n",
       "10           MOTOR         Suzuki     84\n",
       "11           MOTOR            TVS    121\n",
       "12           MOTOR         Yamaha    117"
      ]
     },
     "execution_count": 17,
     "metadata": {},
     "output_type": "execute_result"
    }
   ],
   "source": [
    "kendaraan = df.groupby(['kendaraan_jenis', 'kendaraan_merk']).size().reset_index()\n",
    "kendaraan = kendaraan.rename(columns={0: 'total'})\n",
    "kendaraan"
   ]
  },
  {
   "cell_type": "code",
   "execution_count": 18,
   "metadata": {
    "colab": {
     "base_uri": "https://localhost:8080/"
    },
    "id": "B9BqgOBhXGbQ",
    "outputId": "276d8e59-a4ab-49a9-a0ef-70e4d8dbd2bf"
   },
   "outputs": [
    {
     "data": {
      "text/plain": [
       "TOKO/SWALAYAN    185\n",
       "CAFE             113\n",
       "WARUNG MAKAN      76\n",
       "RESTAURANT        42\n",
       "JAJANAN           34\n",
       "Name: merchant_category, dtype: int64"
      ]
     },
     "execution_count": 18,
     "metadata": {},
     "output_type": "execute_result"
    }
   ],
   "source": [
    "df['merchant_category'].value_counts()"
   ]
  },
  {
   "cell_type": "code",
   "execution_count": 19,
   "metadata": {
    "colab": {
     "base_uri": "https://localhost:8080/"
    },
    "id": "oZJKOesaXHRa",
    "outputId": "cd5692af-e375-456c-ab3a-7f564e3b1c53"
   },
   "outputs": [
    {
     "data": {
      "text/plain": [
       "Alfamart Siantan Hulu       27\n",
       "Indomaret teuku umar        26\n",
       "Indomaret Siantan Hilir     24\n",
       "Indomaret Kota Baru         24\n",
       "Alfamart Pontianak Mall     22\n",
       "                            ..\n",
       "The Flame Grill N Sizzle     2\n",
       "Canopy Center                2\n",
       "Raja Uduk                    2\n",
       "Kings' Kitchen and Bar       1\n",
       "Pondok Rasa                  1\n",
       "Name: merchant_name, Length: 78, dtype: int64"
      ]
     },
     "execution_count": 19,
     "metadata": {},
     "output_type": "execute_result"
    }
   ],
   "source": [
    "df['merchant_name'].value_counts()"
   ]
  },
  {
   "cell_type": "code",
   "execution_count": 20,
   "metadata": {
    "colab": {
     "base_uri": "https://localhost:8080/",
     "height": 424
    },
    "id": "mfbSVSU8XK1w",
    "outputId": "2e8b86a9-a536-41ca-8af1-41296e978f3d"
   },
   "outputs": [
    {
     "data": {
      "text/html": [
       "<div>\n",
       "<style scoped>\n",
       "    .dataframe tbody tr th:only-of-type {\n",
       "        vertical-align: middle;\n",
       "    }\n",
       "\n",
       "    .dataframe tbody tr th {\n",
       "        vertical-align: top;\n",
       "    }\n",
       "\n",
       "    .dataframe thead th {\n",
       "        text-align: right;\n",
       "    }\n",
       "</style>\n",
       "<table border=\"1\" class=\"dataframe\">\n",
       "  <thead>\n",
       "    <tr style=\"text-align: right;\">\n",
       "      <th></th>\n",
       "      <th>merchant_category</th>\n",
       "      <th>merchant_name</th>\n",
       "      <th>total</th>\n",
       "    </tr>\n",
       "  </thead>\n",
       "  <tbody>\n",
       "    <tr>\n",
       "      <th>0</th>\n",
       "      <td>CAFE</td>\n",
       "      <td>Siobi Pontianak</td>\n",
       "      <td>2</td>\n",
       "    </tr>\n",
       "    <tr>\n",
       "      <th>1</th>\n",
       "      <td>CAFE</td>\n",
       "      <td>B?tani Cafe &amp; Resto</td>\n",
       "      <td>3</td>\n",
       "    </tr>\n",
       "    <tr>\n",
       "      <th>2</th>\n",
       "      <td>CAFE</td>\n",
       "      <td>Blackball Pontianak</td>\n",
       "      <td>2</td>\n",
       "    </tr>\n",
       "    <tr>\n",
       "      <th>3</th>\n",
       "      <td>CAFE</td>\n",
       "      <td>Bolubi Pontianak</td>\n",
       "      <td>6</td>\n",
       "    </tr>\n",
       "    <tr>\n",
       "      <th>4</th>\n",
       "      <td>CAFE</td>\n",
       "      <td>Brewings Coffee</td>\n",
       "      <td>4</td>\n",
       "    </tr>\n",
       "    <tr>\n",
       "      <th>...</th>\n",
       "      <td>...</td>\n",
       "      <td>...</td>\n",
       "      <td>...</td>\n",
       "    </tr>\n",
       "    <tr>\n",
       "      <th>73</th>\n",
       "      <td>WARUNG MAKAN</td>\n",
       "      <td>Waroeng Murni Sari</td>\n",
       "      <td>7</td>\n",
       "    </tr>\n",
       "    <tr>\n",
       "      <th>74</th>\n",
       "      <td>WARUNG MAKAN</td>\n",
       "      <td>Warung Haha Hihi</td>\n",
       "      <td>3</td>\n",
       "    </tr>\n",
       "    <tr>\n",
       "      <th>75</th>\n",
       "      <td>WARUNG MAKAN</td>\n",
       "      <td>WarungQ</td>\n",
       "      <td>5</td>\n",
       "    </tr>\n",
       "    <tr>\n",
       "      <th>76</th>\n",
       "      <td>WARUNG MAKAN</td>\n",
       "      <td>Warunk Naskar</td>\n",
       "      <td>3</td>\n",
       "    </tr>\n",
       "    <tr>\n",
       "      <th>77</th>\n",
       "      <td>WARUNG MAKAN</td>\n",
       "      <td>warong pak ngah</td>\n",
       "      <td>6</td>\n",
       "    </tr>\n",
       "  </tbody>\n",
       "</table>\n",
       "<p>78 rows × 3 columns</p>\n",
       "</div>"
      ],
      "text/plain": [
       "   merchant_category        merchant_name  total\n",
       "0               CAFE      Siobi Pontianak      2\n",
       "1               CAFE  B?tani Cafe & Resto      3\n",
       "2               CAFE  Blackball Pontianak      2\n",
       "3               CAFE     Bolubi Pontianak      6\n",
       "4               CAFE      Brewings Coffee      4\n",
       "..               ...                  ...    ...\n",
       "73      WARUNG MAKAN   Waroeng Murni Sari      7\n",
       "74      WARUNG MAKAN     Warung Haha Hihi      3\n",
       "75      WARUNG MAKAN              WarungQ      5\n",
       "76      WARUNG MAKAN        Warunk Naskar      3\n",
       "77      WARUNG MAKAN      warong pak ngah      6\n",
       "\n",
       "[78 rows x 3 columns]"
      ]
     },
     "execution_count": 20,
     "metadata": {},
     "output_type": "execute_result"
    }
   ],
   "source": [
    "merchant = df.groupby(['merchant_category', 'merchant_name']).size().reset_index()\n",
    "merchant = merchant.rename(columns={0: 'total'})\n",
    "merchant"
   ]
  },
  {
   "cell_type": "markdown",
   "metadata": {
    "id": "LtTAYlyCxOvz"
   },
   "source": [
    "# DATA CLEANING"
   ]
  },
  {
   "cell_type": "code",
   "execution_count": 21,
   "metadata": {
    "colab": {
     "base_uri": "https://localhost:8080/"
    },
    "id": "83R4tlCuVmLQ",
    "outputId": "7f0ce087-1455-4157-cdae-40c16518328b"
   },
   "outputs": [
    {
     "name": "stdout",
     "output_type": "stream",
     "text": [
      "<class 'pandas.core.frame.DataFrame'>\n",
      "RangeIndex: 1017 entries, 0 to 1016\n",
      "Data columns (total 26 columns):\n",
      " #   Column                    Non-Null Count  Dtype  \n",
      "---  ------                    --------------  -----  \n",
      " 0   id                        1017 non-null   int64  \n",
      " 1   date                      1017 non-null   object \n",
      " 2   mode                      1017 non-null   object \n",
      " 3   from_alamat               1017 non-null   object \n",
      " 4   from_kelurahan            1017 non-null   object \n",
      " 5   from_kecamatan            1017 non-null   object \n",
      " 6   from_latlng               1017 non-null   object \n",
      " 7   to_alamat                 1014 non-null   object \n",
      " 8   to_kelurahan              1017 non-null   object \n",
      " 9   to_kecamatan              1017 non-null   object \n",
      " 10  to_latlng                 1017 non-null   object \n",
      " 11  distance                  1017 non-null   float64\n",
      " 12  amount_delivery           1017 non-null   int64  \n",
      " 13  amount_merchant           1017 non-null   int64  \n",
      " 14  transaction_amount_total  1017 non-null   int64  \n",
      " 15  customer_id               1017 non-null   int64  \n",
      " 16  customer_gender           1017 non-null   object \n",
      " 17  customer_birthdate        1017 non-null   object \n",
      " 18  driver_id                 1017 non-null   int64  \n",
      " 19  driver_gender             1017 non-null   object \n",
      " 20  driver_birthdate          1017 non-null   object \n",
      " 21  kendaraan_jenis           1017 non-null   object \n",
      " 22  kendaraan_merk            1017 non-null   object \n",
      " 23  merchant_id               450 non-null    float64\n",
      " 24  merchant_name             450 non-null    object \n",
      " 25  merchant_category         450 non-null    object \n",
      "dtypes: float64(2), int64(6), object(18)\n",
      "memory usage: 206.7+ KB\n"
     ]
    }
   ],
   "source": [
    "df.info()"
   ]
  },
  {
   "cell_type": "code",
   "execution_count": 22,
   "metadata": {
    "id": "tqUwWiYKxRKr"
   },
   "outputs": [],
   "source": [
    "# Menghilangkan atribut \n",
    "df.drop(columns=['id','from_alamat','from_kelurahan','from_kecamatan','to_alamat','to_kelurahan','to_kecamatan','customer_id','driver_id','driver_birthdate','customer_birthdate','date','merchant_name','merchant_category','merchant_id'], inplace=True)"
   ]
  },
  {
   "cell_type": "code",
   "execution_count": 23,
   "metadata": {
    "colab": {
     "base_uri": "https://localhost:8080/"
    },
    "id": "triujPc6XtMY",
    "outputId": "0f7bb92d-e168-469a-db4d-3e036bc16428"
   },
   "outputs": [
    {
     "name": "stdout",
     "output_type": "stream",
     "text": [
      "<class 'pandas.core.frame.DataFrame'>\n",
      "RangeIndex: 1017 entries, 0 to 1016\n",
      "Data columns (total 11 columns):\n",
      " #   Column                    Non-Null Count  Dtype  \n",
      "---  ------                    --------------  -----  \n",
      " 0   mode                      1017 non-null   object \n",
      " 1   from_latlng               1017 non-null   object \n",
      " 2   to_latlng                 1017 non-null   object \n",
      " 3   distance                  1017 non-null   float64\n",
      " 4   amount_delivery           1017 non-null   int64  \n",
      " 5   amount_merchant           1017 non-null   int64  \n",
      " 6   transaction_amount_total  1017 non-null   int64  \n",
      " 7   customer_gender           1017 non-null   object \n",
      " 8   driver_gender             1017 non-null   object \n",
      " 9   kendaraan_jenis           1017 non-null   object \n",
      " 10  kendaraan_merk            1017 non-null   object \n",
      "dtypes: float64(1), int64(3), object(7)\n",
      "memory usage: 87.5+ KB\n"
     ]
    }
   ],
   "source": [
    "df.info()"
   ]
  },
  {
   "cell_type": "code",
   "execution_count": 24,
   "metadata": {
    "id": "8hVBL7m7WyCi"
   },
   "outputs": [],
   "source": [
    "df2 = df.rename(columns={'from_latlng':'dari_latlng', 'to_latlng': 'ke_latlng', 'distance': 'jarak','amount_delivery': 'jumlah_pengiriman', \n",
    "                         'amount_merchant': 'jumlah_merchant','transaction_amount_total': 'total_jumlah_transaksi',\n",
    "                         'customer_gender': 'jenis_kelamin_pelanggan', 'driver_gender': 'jenis_kelamin_pengemudi', \n",
    "                         'kendaraan_jenis': 'jenis_kendaraan', 'kendaraan_merk': 'merk_kendaraan', 'merchant_id': 'ID_toko', 'merchant_name': 'nama_toko', 'merchant_category': 'kategori_toko'})"
   ]
  },
  {
   "cell_type": "code",
   "execution_count": 25,
   "metadata": {
    "id": "5gHwseg8ZYzs"
   },
   "outputs": [],
   "source": [
    "df2.rename(columns={'jumlah_merchant':'jumlah_toko'}, inplace=True)"
   ]
  },
  {
   "cell_type": "code",
   "execution_count": 26,
   "metadata": {
    "colab": {
     "base_uri": "https://localhost:8080/"
    },
    "id": "TZhO5Q1DY0zz",
    "outputId": "dbb123fd-760f-48d6-fc6d-93e8dd7e6022"
   },
   "outputs": [
    {
     "name": "stdout",
     "output_type": "stream",
     "text": [
      "<class 'pandas.core.frame.DataFrame'>\n",
      "RangeIndex: 1017 entries, 0 to 1016\n",
      "Data columns (total 11 columns):\n",
      " #   Column                   Non-Null Count  Dtype  \n",
      "---  ------                   --------------  -----  \n",
      " 0   mode                     1017 non-null   object \n",
      " 1   dari_latlng              1017 non-null   object \n",
      " 2   ke_latlng                1017 non-null   object \n",
      " 3   jarak                    1017 non-null   float64\n",
      " 4   jumlah_pengiriman        1017 non-null   int64  \n",
      " 5   jumlah_toko              1017 non-null   int64  \n",
      " 6   total_jumlah_transaksi   1017 non-null   int64  \n",
      " 7   jenis_kelamin_pelanggan  1017 non-null   object \n",
      " 8   jenis_kelamin_pengemudi  1017 non-null   object \n",
      " 9   jenis_kendaraan          1017 non-null   object \n",
      " 10  merk_kendaraan           1017 non-null   object \n",
      "dtypes: float64(1), int64(3), object(7)\n",
      "memory usage: 87.5+ KB\n"
     ]
    }
   ],
   "source": [
    "df2.info()"
   ]
  },
  {
   "cell_type": "code",
   "execution_count": 27,
   "metadata": {
    "colab": {
     "base_uri": "https://localhost:8080/"
    },
    "id": "lDpjB2Rbx-TD",
    "outputId": "03b30751-a310-4416-de4e-1592566f16ef"
   },
   "outputs": [
    {
     "data": {
      "text/plain": [
       "0"
      ]
     },
     "execution_count": 27,
     "metadata": {},
     "output_type": "execute_result"
    }
   ],
   "source": [
    "# Melakukan pengecekan duplikasi data\n",
    "df2.duplicated().sum()"
   ]
  },
  {
   "cell_type": "code",
   "execution_count": 28,
   "metadata": {
    "colab": {
     "base_uri": "https://localhost:8080/"
    },
    "id": "Wb1ECrHwl4HR",
    "outputId": "fa03ed97-41b4-4289-ca40-10922ee9e908"
   },
   "outputs": [
    {
     "data": {
      "text/plain": [
       "mode                       0\n",
       "dari_latlng                0\n",
       "ke_latlng                  0\n",
       "jarak                      0\n",
       "jumlah_pengiriman          0\n",
       "jumlah_toko                0\n",
       "total_jumlah_transaksi     0\n",
       "jenis_kelamin_pelanggan    0\n",
       "jenis_kelamin_pengemudi    0\n",
       "jenis_kendaraan            0\n",
       "merk_kendaraan             0\n",
       "dtype: int64"
      ]
     },
     "execution_count": 28,
     "metadata": {},
     "output_type": "execute_result"
    }
   ],
   "source": [
    "df2.isna().sum()"
   ]
  },
  {
   "cell_type": "code",
   "execution_count": 29,
   "metadata": {
    "colab": {
     "base_uri": "https://localhost:8080/"
    },
    "id": "PccffI9HkQ_W",
    "outputId": "1ae0a011-5d3a-47ca-e85a-9792f80c5e74"
   },
   "outputs": [
    {
     "data": {
      "text/plain": [
       "(1017, 11)"
      ]
     },
     "execution_count": 29,
     "metadata": {},
     "output_type": "execute_result"
    }
   ],
   "source": [
    "df2.shape"
   ]
  },
  {
   "cell_type": "code",
   "execution_count": 30,
   "metadata": {
    "colab": {
     "base_uri": "https://localhost:8080/"
    },
    "id": "Ao8hLXo4edfw",
    "outputId": "00d2dc9b-5e92-4df5-afab-30615b712743"
   },
   "outputs": [
    {
     "name": "stderr",
     "output_type": "stream",
     "text": [
      "C:\\Users\\ASUS\\AppData\\Local\\Temp\\ipykernel_7160\\834593052.py:1: FutureWarning: Dropping of nuisance columns in DataFrame reductions (with 'numeric_only=None') is deprecated; in a future version this will raise TypeError.  Select only valid columns before calling the reduction.\n",
      "  df2.skew()\n"
     ]
    },
    {
     "data": {
      "text/plain": [
       "jarak                     11.908674\n",
       "jumlah_pengiriman          1.356483\n",
       "jumlah_toko                0.686231\n",
       "total_jumlah_transaksi     0.629906\n",
       "dtype: float64"
      ]
     },
     "execution_count": 30,
     "metadata": {},
     "output_type": "execute_result"
    }
   ],
   "source": [
    "df2.skew()"
   ]
  },
  {
   "cell_type": "markdown",
   "metadata": {
    "id": "f0RaPxcea1De"
   },
   "source": [
    "## Handling Outlier"
   ]
  },
  {
   "cell_type": "code",
   "execution_count": 31,
   "metadata": {
    "colab": {
     "base_uri": "https://localhost:8080/",
     "height": 424
    },
    "id": "rbEYC4qhcVJy",
    "outputId": "ebd72252-e9b1-4cc4-832e-1f2cb30e24d9"
   },
   "outputs": [
    {
     "data": {
      "image/png": "[encoded data removed]",
      "text/plain": [
       "<Figure size 1000x2000 with 4 Axes>"
      ]
     },
     "metadata": {},
     "output_type": "display_data"
    }
   ],
   "source": [
    "plt.figure(figsize=(10,20))\n",
    "\n",
    "feat_num = df2.select_dtypes(include=[np.number]).columns.tolist()\n",
    "\n",
    "for i in range(0, len(feat_num)):\n",
    "    plt.subplot(5, 5, i+1)\n",
    "    sns.boxplot(y=df2[feat_num[i]],color='teal', orient='v')\n",
    "    plt.tight_layout()"
   ]
  },
  {
   "cell_type": "markdown",
   "metadata": {
    "id": "mjVHT1vLbCif"
   },
   "source": [
    "## Transformasi Log"
   ]
  },
  {
   "cell_type": "code",
   "execution_count": 32,
   "metadata": {
    "colab": {
     "base_uri": "https://localhost:8080/",
     "height": 424
    },
    "id": "9BJjwY3icaEO",
    "outputId": "d8a76fb4-0dbc-4a50-98f4-a9017b359728"
   },
   "outputs": [
    {
     "data": {
      "image/png": "[encoded data removed]",
      "text/plain": [
       "<Figure size 1000x2000 with 4 Axes>"
      ]
     },
     "metadata": {},
     "output_type": "display_data"
    }
   ],
   "source": [
    "plt.figure(figsize=(10,20))\n",
    "\n",
    "# plotting\n",
    "for i in range(0, len(feat_num)):\n",
    "    plt.subplot(5, 5, i+1)\n",
    "    sns.boxplot(y=df2[feat_num[i]],color='teal', orient='v')\n",
    "    plt.tight_layout()"
   ]
  },
  {
   "cell_type": "markdown",
   "metadata": {
    "id": "S0dudDHNbLcW"
   },
   "source": [
    "## Imputasi Outlier"
   ]
  },
  {
   "cell_type": "code",
   "execution_count": 33,
   "metadata": {
    "id": "-DRDLzdncm0-"
   },
   "outputs": [],
   "source": [
    "def impute_outliers(df2):\n",
    "    float_cols = df2.select_dtypes(include=['float64']).columns.tolist()\n",
    "    int_cols = df2.select_dtypes(include=['int64']).columns.tolist()\n",
    "    \n",
    "    # Menghapus nilai outlier pada setiap atribut\n",
    "    for col in float_cols + int_cols:\n",
    "        Q1 = df2[col].quantile(0.25)\n",
    "        Q3 = df2[col].quantile(0.75)\n",
    "        IQR = Q3 - Q1\n",
    "        lower_bound = Q1 - 1.5*IQR\n",
    "        upper_bound = Q3 + 1.5*IQR\n",
    "        \n",
    "        if col in float_cols:\n",
    "            df2.loc[df2[col] < lower_bound, col] = df2[col].mean()\n",
    "            df2.loc[df2[col] > upper_bound, col] = df2[col].mean()\n",
    "        elif col in int_cols:\n",
    "            df2.loc[df2[col] < lower_bound, col] = df2[col].mean()\n",
    "            df2.loc[df2[col] > upper_bound, col] = df2[col].mean()\n",
    "    \n",
    "    return df2\n",
    "\n",
    "df2 = impute_outliers(df2)"
   ]
  },
  {
   "cell_type": "markdown",
   "metadata": {
    "id": "cRckaSJCbb-M"
   },
   "source": [
    "## Normalisasi Data"
   ]
  },
  {
   "cell_type": "code",
   "execution_count": 34,
   "metadata": {
    "id": "B2bewyR8cp5-"
   },
   "outputs": [],
   "source": [
    "scaler = MinMaxScaler()\n",
    "num_df_transform = pd.DataFrame(scaler.fit_transform(df2[feat_num]), columns=feat_num)"
   ]
  },
  {
   "cell_type": "code",
   "execution_count": 35,
   "metadata": {
    "colab": {
     "base_uri": "https://localhost:8080/",
     "height": 419
    },
    "id": "p9wTW10AcsI3",
    "outputId": "817e69d7-9163-4ee4-b48e-3236e5a167c3"
   },
   "outputs": [
    {
     "data": {
      "image/png": "[encoded data removed]",
      "text/plain": [
       "<Figure size 1000x2000 with 4 Axes>"
      ]
     },
     "metadata": {},
     "output_type": "display_data"
    }
   ],
   "source": [
    "plt.figure(figsize=(10,20))\n",
    "num_df_column = num_df_transform.columns\n",
    "# plotting\n",
    "for i in range(0, len(num_df_column)):\n",
    "    plt.subplot(5, 5, i+1)\n",
    "    sns.boxplot(y=num_df_transform[num_df_column[i]],color='teal', orient='v')\n",
    "    plt.tight_layout()"
   ]
  },
  {
   "cell_type": "code",
   "execution_count": 36,
   "metadata": {
    "colab": {
     "base_uri": "https://localhost:8080/",
     "height": 345
    },
    "id": "IoEJ6rxscwjs",
    "outputId": "6cd19eab-0434-4656-858f-8b2465b07f50"
   },
   "outputs": [
    {
     "data": {
      "image/png": "[encoded data removed]",
      "text/plain": [
       "<Figure size 1800x1500 with 4 Axes>"
      ]
     },
     "metadata": {},
     "output_type": "display_data"
    }
   ],
   "source": [
    "plt.figure(figsize=(18,15))\n",
    "\n",
    "for i, var in enumerate(num_df_column):\n",
    "    plt.subplot(5, 5, i+1)\n",
    "    sns.histplot(num_df_transform[var])\n",
    "    plt.title(var)\n",
    "\n",
    "plt.tight_layout()\n",
    "plt.show()"
   ]
  },
  {
   "cell_type": "markdown",
   "metadata": {
    "id": "xqk952ioTeth"
   },
   "source": [
    "# EKSPLORASI DATA"
   ]
  },
  {
   "cell_type": "code",
   "execution_count": 37,
   "metadata": {
    "colab": {
     "base_uri": "https://localhost:8080/",
     "height": 175
    },
    "id": "9UuRZ4w1f1ME",
    "outputId": "5016bbac-e553-4b61-cb12-3a631bdf204f"
   },
   "outputs": [
    {
     "data": {
      "text/html": [
       "<div>\n",
       "<style scoped>\n",
       "    .dataframe tbody tr th:only-of-type {\n",
       "        vertical-align: middle;\n",
       "    }\n",
       "\n",
       "    .dataframe tbody tr th {\n",
       "        vertical-align: top;\n",
       "    }\n",
       "\n",
       "    .dataframe thead th {\n",
       "        text-align: right;\n",
       "    }\n",
       "</style>\n",
       "<table border=\"1\" class=\"dataframe\">\n",
       "  <thead>\n",
       "    <tr style=\"text-align: right;\">\n",
       "      <th></th>\n",
       "      <th>mode</th>\n",
       "      <th>dari_latlng</th>\n",
       "      <th>ke_latlng</th>\n",
       "      <th>jenis_kelamin_pelanggan</th>\n",
       "      <th>jenis_kelamin_pengemudi</th>\n",
       "      <th>jenis_kendaraan</th>\n",
       "      <th>merk_kendaraan</th>\n",
       "    </tr>\n",
       "  </thead>\n",
       "  <tbody>\n",
       "    <tr>\n",
       "      <th>count</th>\n",
       "      <td>1017</td>\n",
       "      <td>1017</td>\n",
       "      <td>1017</td>\n",
       "      <td>1017</td>\n",
       "      <td>1017</td>\n",
       "      <td>1017</td>\n",
       "      <td>1017</td>\n",
       "    </tr>\n",
       "    <tr>\n",
       "      <th>unique</th>\n",
       "      <td>4</td>\n",
       "      <td>643</td>\n",
       "      <td>1017</td>\n",
       "      <td>2</td>\n",
       "      <td>2</td>\n",
       "      <td>2</td>\n",
       "      <td>11</td>\n",
       "    </tr>\n",
       "    <tr>\n",
       "      <th>top</th>\n",
       "      <td>BIKE</td>\n",
       "      <td>-0,008582,109,361511</td>\n",
       "      <td>-0,061345224,109,305406</td>\n",
       "      <td>P</td>\n",
       "      <td>L</td>\n",
       "      <td>MOTOR</td>\n",
       "      <td>BMW</td>\n",
       "    </tr>\n",
       "    <tr>\n",
       "      <th>freq</th>\n",
       "      <td>325</td>\n",
       "      <td>27</td>\n",
       "      <td>1</td>\n",
       "      <td>529</td>\n",
       "      <td>728</td>\n",
       "      <td>775</td>\n",
       "      <td>216</td>\n",
       "    </tr>\n",
       "  </tbody>\n",
       "</table>\n",
       "</div>"
      ],
      "text/plain": [
       "        mode           dari_latlng                ke_latlng  \\\n",
       "count   1017                  1017                     1017   \n",
       "unique     4                   643                     1017   \n",
       "top     BIKE  -0,008582,109,361511  -0,061345224,109,305406   \n",
       "freq     325                    27                        1   \n",
       "\n",
       "       jenis_kelamin_pelanggan jenis_kelamin_pengemudi jenis_kendaraan  \\\n",
       "count                     1017                    1017            1017   \n",
       "unique                       2                       2               2   \n",
       "top                          P                       L           MOTOR   \n",
       "freq                       529                     728             775   \n",
       "\n",
       "       merk_kendaraan  \n",
       "count            1017  \n",
       "unique             11  \n",
       "top               BMW  \n",
       "freq              216  "
      ]
     },
     "execution_count": 37,
     "metadata": {},
     "output_type": "execute_result"
    }
   ],
   "source": [
    "# Memperoleh deskripsi statistik dari kolom-kolom yang memiliki tipe data objek/string.\n",
    "df2.describe(include=\"O\")"
   ]
  },
  {
   "cell_type": "code",
   "execution_count": 38,
   "metadata": {
    "colab": {
     "base_uri": "https://localhost:8080/"
    },
    "id": "odIHYlu6cI3E",
    "outputId": "c5ed8a46-6733-40b1-996d-fd62972778a9"
   },
   "outputs": [
    {
     "name": "stdout",
     "output_type": "stream",
     "text": [
      "<class 'pandas.core.frame.DataFrame'>\n",
      "RangeIndex: 1017 entries, 0 to 1016\n",
      "Data columns (total 11 columns):\n",
      " #   Column                   Non-Null Count  Dtype  \n",
      "---  ------                   --------------  -----  \n",
      " 0   mode                     1017 non-null   object \n",
      " 1   dari_latlng              1017 non-null   object \n",
      " 2   ke_latlng                1017 non-null   object \n",
      " 3   jarak                    1017 non-null   float64\n",
      " 4   jumlah_pengiriman        1017 non-null   float64\n",
      " 5   jumlah_toko              1017 non-null   float64\n",
      " 6   total_jumlah_transaksi   1017 non-null   float64\n",
      " 7   jenis_kelamin_pelanggan  1017 non-null   object \n",
      " 8   jenis_kelamin_pengemudi  1017 non-null   object \n",
      " 9   jenis_kendaraan          1017 non-null   object \n",
      " 10  merk_kendaraan           1017 non-null   object \n",
      "dtypes: float64(4), object(7)\n",
      "memory usage: 87.5+ KB\n"
     ]
    }
   ],
   "source": [
    "df2.info()"
   ]
  },
  {
   "cell_type": "code",
   "execution_count": 39,
   "metadata": {
    "colab": {
     "base_uri": "https://localhost:8080/"
    },
    "id": "MObfvdRFT7i6",
    "outputId": "440f4a23-6eba-40fc-8bab-2e2b4ee86855"
   },
   "outputs": [
    {
     "data": {
      "text/plain": [
       "MOTOR    775\n",
       "MOBIL    242\n",
       "Name: jenis_kendaraan, dtype: int64"
      ]
     },
     "execution_count": 39,
     "metadata": {},
     "output_type": "execute_result"
    }
   ],
   "source": [
    "df2['jenis_kendaraan'].value_counts()"
   ]
  },
  {
   "cell_type": "code",
   "execution_count": 40,
   "metadata": {
    "colab": {
     "base_uri": "https://localhost:8080/",
     "height": 112
    },
    "id": "2OLMu-7nVIdG",
    "outputId": "44cf69a2-51ca-4591-d4fa-eac149b4dfcb"
   },
   "outputs": [
    {
     "data": {
      "text/html": [
       "<div>\n",
       "<style scoped>\n",
       "    .dataframe tbody tr th:only-of-type {\n",
       "        vertical-align: middle;\n",
       "    }\n",
       "\n",
       "    .dataframe tbody tr th {\n",
       "        vertical-align: top;\n",
       "    }\n",
       "\n",
       "    .dataframe thead th {\n",
       "        text-align: right;\n",
       "    }\n",
       "</style>\n",
       "<table border=\"1\" class=\"dataframe\">\n",
       "  <thead>\n",
       "    <tr style=\"text-align: right;\">\n",
       "      <th></th>\n",
       "      <th>Total</th>\n",
       "      <th>Presentase</th>\n",
       "    </tr>\n",
       "  </thead>\n",
       "  <tbody>\n",
       "    <tr>\n",
       "      <th>MOTOR</th>\n",
       "      <td>775</td>\n",
       "      <td>76.204523</td>\n",
       "    </tr>\n",
       "    <tr>\n",
       "      <th>MOBIL</th>\n",
       "      <td>242</td>\n",
       "      <td>23.795477</td>\n",
       "    </tr>\n",
       "  </tbody>\n",
       "</table>\n",
       "</div>"
      ],
      "text/plain": [
       "       Total  Presentase\n",
       "MOTOR    775   76.204523\n",
       "MOBIL    242   23.795477"
      ]
     },
     "execution_count": 40,
     "metadata": {},
     "output_type": "execute_result"
    }
   ],
   "source": [
    "# Melihat persentase jumlah masing-masing merek\n",
    "datamerk = pd.DataFrame({\"Total\":df2['jenis_kendaraan'].value_counts(), \n",
    "                          \"Presentase\":(df2['jenis_kendaraan'].value_counts()/df2.shape[0])*100})\n",
    "datamerk"
   ]
  },
  {
   "cell_type": "code",
   "execution_count": 41,
   "metadata": {
    "colab": {
     "base_uri": "https://localhost:8080/",
     "height": 428
    },
    "id": "kj0z8sAEWPRj",
    "outputId": "bf424270-4edc-4f8e-8064-e4add4a4266e"
   },
   "outputs": [
    {
     "data": {
      "image/png": "[encoded data removed]",
      "text/plain": [
       "<Figure size 640x480 with 1 Axes>"
      ]
     },
     "metadata": {},
     "output_type": "display_data"
    }
   ],
   "source": [
    "# Visualisasi data dengan pie chart\n",
    "jumlah = datamerk['Total']\n",
    "label = ['MOTOR','MOBIL']\n",
    "\n",
    "plt.pie(jumlah, labels=label, autopct='%1.1f%%', startangle=90)\n",
    "plt.axis('equal')\n",
    "plt.title('Perbandingan Transportasi Motor dan Mobil')\n",
    "plt.show()"
   ]
  },
  {
   "cell_type": "markdown",
   "metadata": {
    "id": "_hVFpx1ifX17"
   },
   "source": [
    "# DATA PREPROCECING"
   ]
  },
  {
   "cell_type": "code",
   "execution_count": 42,
   "metadata": {
    "id": "0PyN1DO_qHkK"
   },
   "outputs": [],
   "source": [
    "df2.drop(columns=['dari_latlng','ke_latlng'], inplace=True)"
   ]
  },
  {
   "cell_type": "code",
   "execution_count": 43,
   "metadata": {
    "colab": {
     "base_uri": "https://localhost:8080/"
    },
    "id": "Pjb8PT-0giYF",
    "outputId": "605ca392-9464-4e75-d4c1-890658b291ca"
   },
   "outputs": [
    {
     "name": "stdout",
     "output_type": "stream",
     "text": [
      "categorical : ['mode', 'jenis_kelamin_pelanggan', 'jenis_kelamin_pengemudi', 'jenis_kendaraan', 'merk_kendaraan']\n",
      "numerical : ['jarak', 'jumlah_pengiriman', 'jumlah_toko', 'total_jumlah_transaksi']\n"
     ]
    }
   ],
   "source": [
    "# Memperbarui list atribut bertipe numerik dan kategorik\n",
    "categorical = [i for i in df2.columns if df2[i].dtypes == 'O']\n",
    "numerical = [i for i in df2.columns if i not in categorical] \n",
    "print('categorical :', categorical)\n",
    "print('numerical :', numerical)"
   ]
  },
  {
   "cell_type": "code",
   "execution_count": 44,
   "metadata": {
    "id": "0sGrDgwo0RvK"
   },
   "outputs": [],
   "source": [
    "def encode_data(feature_name):\n",
    "     \n",
    "    mapping_dict = {}\n",
    "    unique_values = list(df2[feature_name].unique())\n",
    "    for idx in range(len(unique_values)):\n",
    "        mapping_dict[unique_values[idx]] = idx\n",
    "    print(mapping_dict)\n",
    "    return mapping_dict"
   ]
  },
  {
   "cell_type": "code",
   "execution_count": 45,
   "metadata": {
    "colab": {
     "base_uri": "https://localhost:8080/"
    },
    "id": "-CYbWaqMiRqU",
    "outputId": "4281b3f3-469e-4b52-ec02-c9b30c3db1c6"
   },
   "outputs": [
    {
     "name": "stdout",
     "output_type": "stream",
     "text": [
      "{'P': 0, 'L': 1}\n"
     ]
    }
   ],
   "source": [
    "df2['jenis_kelamin_pelanggan'].replace(encode_data('jenis_kelamin_pelanggan'),inplace = True)"
   ]
  },
  {
   "cell_type": "code",
   "execution_count": 46,
   "metadata": {
    "colab": {
     "base_uri": "https://localhost:8080/"
    },
    "id": "-sp5_9JWiMZd",
    "outputId": "61cbb052-fb91-4c19-b129-9ae52ec786c2"
   },
   "outputs": [
    {
     "name": "stdout",
     "output_type": "stream",
     "text": [
      "{'L': 0, 'P': 1}\n"
     ]
    }
   ],
   "source": [
    "df2['jenis_kelamin_pengemudi'].replace(encode_data('jenis_kelamin_pengemudi'),inplace = True)"
   ]
  },
  {
   "cell_type": "code",
   "execution_count": 47,
   "metadata": {
    "colab": {
     "base_uri": "https://localhost:8080/"
    },
    "id": "nyJcWdeaiCDl",
    "outputId": "a30bd677-4678-4e3a-e5d3-3ac6be826fbb"
   },
   "outputs": [
    {
     "name": "stdout",
     "output_type": "stream",
     "text": [
      "{'MOTOR': 0, 'MOBIL': 1}\n"
     ]
    }
   ],
   "source": [
    "df2['jenis_kendaraan'].replace(encode_data('jenis_kendaraan'),inplace = True)"
   ]
  },
  {
   "cell_type": "code",
   "execution_count": 48,
   "metadata": {
    "colab": {
     "base_uri": "https://localhost:8080/"
    },
    "id": "Lf16fbgVh91M",
    "outputId": "71781760-6f31-4378-d474-0ddbaecde89d"
   },
   "outputs": [
    {
     "name": "stdout",
     "output_type": "stream",
     "text": [
      "{'Yamaha': 0, 'BMW': 1, 'TVS': 2, 'Suzuki': 3, 'Honda': 4, 'Toyota': 5, 'Kawasaki': 6, 'Mitsubishi': 7, 'KIA': 8, 'Volvo': 9, 'Audi': 10}\n"
     ]
    }
   ],
   "source": [
    "df2['merk_kendaraan'].replace(encode_data('merk_kendaraan'),inplace = True)"
   ]
  },
  {
   "cell_type": "code",
   "execution_count": 49,
   "metadata": {
    "colab": {
     "base_uri": "https://localhost:8080/"
    },
    "id": "NALywK1mmvBN",
    "outputId": "ef95f2e4-b30f-4f71-df8a-c9161e311795"
   },
   "outputs": [
    {
     "name": "stdout",
     "output_type": "stream",
     "text": [
      "{'BIKE': 0, 'FOOD': 1, 'SHOP': 2, 'CAR': 3}\n"
     ]
    }
   ],
   "source": [
    "df2['mode'].replace(encode_data('mode'),inplace = True)"
   ]
  },
  {
   "cell_type": "code",
   "execution_count": 50,
   "metadata": {
    "id": "Yw3UKgw7fj9Y"
   },
   "outputs": [],
   "source": [
    "# scaler = MinMaxScaler()\n",
    "# scaled_jarak = scaler.fit_transform(df2[['jarak']])\n",
    "# df2['jarak'] = scaled_jarak"
   ]
  },
  {
   "cell_type": "code",
   "execution_count": 51,
   "metadata": {
    "id": "UN5h4h4thU2J"
   },
   "outputs": [],
   "source": [
    "# scaled_pengiriman = scaler.fit_transform(df2[['jumlah_pengiriman']])\n",
    "# df2['jumlah_pengiriman'] = scaled_pengiriman"
   ]
  },
  {
   "cell_type": "code",
   "execution_count": 52,
   "metadata": {
    "id": "ptm3AysQiBaI"
   },
   "outputs": [],
   "source": [
    "# scaled_toko = scaler.fit_transform(df2[['jumlah_toko']])\n",
    "# df2['jumlah_toko'] = scaled_toko"
   ]
  },
  {
   "cell_type": "code",
   "execution_count": 53,
   "metadata": {
    "id": "Q24EXoVOiJRr"
   },
   "outputs": [],
   "source": [
    "# scaled_totaltransaksi = scaler.fit_transform(df2[['total_jumlah_transaksi']])\n",
    "# df2['total_jumlah_transaksi'] = scaled_toko"
   ]
  },
  {
   "cell_type": "code",
   "execution_count": 54,
   "metadata": {
    "colab": {
     "base_uri": "https://localhost:8080/",
     "height": 424
    },
    "id": "gW7Z_z0FmQAy",
    "outputId": "19d51318-8986-40f5-b077-abc766c12f7e"
   },
   "outputs": [
    {
     "data": {
      "text/html": [
       "<div>\n",
       "<style scoped>\n",
       "    .dataframe tbody tr th:only-of-type {\n",
       "        vertical-align: middle;\n",
       "    }\n",
       "\n",
       "    .dataframe tbody tr th {\n",
       "        vertical-align: top;\n",
       "    }\n",
       "\n",
       "    .dataframe thead th {\n",
       "        text-align: right;\n",
       "    }\n",
       "</style>\n",
       "<table border=\"1\" class=\"dataframe\">\n",
       "  <thead>\n",
       "    <tr style=\"text-align: right;\">\n",
       "      <th></th>\n",
       "      <th>mode</th>\n",
       "      <th>jarak</th>\n",
       "      <th>jumlah_pengiriman</th>\n",
       "      <th>jumlah_toko</th>\n",
       "      <th>total_jumlah_transaksi</th>\n",
       "      <th>jenis_kelamin_pelanggan</th>\n",
       "      <th>jenis_kelamin_pengemudi</th>\n",
       "      <th>jenis_kendaraan</th>\n",
       "      <th>merk_kendaraan</th>\n",
       "    </tr>\n",
       "  </thead>\n",
       "  <tbody>\n",
       "    <tr>\n",
       "      <th>0</th>\n",
       "      <td>0</td>\n",
       "      <td>5.55</td>\n",
       "      <td>2500.0</td>\n",
       "      <td>0.0</td>\n",
       "      <td>2500.0</td>\n",
       "      <td>0</td>\n",
       "      <td>0</td>\n",
       "      <td>0</td>\n",
       "      <td>0</td>\n",
       "    </tr>\n",
       "    <tr>\n",
       "      <th>1</th>\n",
       "      <td>1</td>\n",
       "      <td>7.08</td>\n",
       "      <td>9000.0</td>\n",
       "      <td>82000.0</td>\n",
       "      <td>91000.0</td>\n",
       "      <td>1</td>\n",
       "      <td>0</td>\n",
       "      <td>0</td>\n",
       "      <td>1</td>\n",
       "    </tr>\n",
       "    <tr>\n",
       "      <th>2</th>\n",
       "      <td>2</td>\n",
       "      <td>4.02</td>\n",
       "      <td>5000.0</td>\n",
       "      <td>58500.0</td>\n",
       "      <td>63500.0</td>\n",
       "      <td>1</td>\n",
       "      <td>0</td>\n",
       "      <td>0</td>\n",
       "      <td>2</td>\n",
       "    </tr>\n",
       "    <tr>\n",
       "      <th>3</th>\n",
       "      <td>1</td>\n",
       "      <td>8.94</td>\n",
       "      <td>12000.0</td>\n",
       "      <td>72000.0</td>\n",
       "      <td>84000.0</td>\n",
       "      <td>1</td>\n",
       "      <td>0</td>\n",
       "      <td>0</td>\n",
       "      <td>3</td>\n",
       "    </tr>\n",
       "    <tr>\n",
       "      <th>4</th>\n",
       "      <td>3</td>\n",
       "      <td>7.93</td>\n",
       "      <td>14400.0</td>\n",
       "      <td>0.0</td>\n",
       "      <td>14400.0</td>\n",
       "      <td>1</td>\n",
       "      <td>1</td>\n",
       "      <td>1</td>\n",
       "      <td>4</td>\n",
       "    </tr>\n",
       "    <tr>\n",
       "      <th>...</th>\n",
       "      <td>...</td>\n",
       "      <td>...</td>\n",
       "      <td>...</td>\n",
       "      <td>...</td>\n",
       "      <td>...</td>\n",
       "      <td>...</td>\n",
       "      <td>...</td>\n",
       "      <td>...</td>\n",
       "      <td>...</td>\n",
       "    </tr>\n",
       "    <tr>\n",
       "      <th>1012</th>\n",
       "      <td>0</td>\n",
       "      <td>9.75</td>\n",
       "      <td>5000.0</td>\n",
       "      <td>0.0</td>\n",
       "      <td>5000.0</td>\n",
       "      <td>1</td>\n",
       "      <td>0</td>\n",
       "      <td>0</td>\n",
       "      <td>1</td>\n",
       "    </tr>\n",
       "    <tr>\n",
       "      <th>1013</th>\n",
       "      <td>1</td>\n",
       "      <td>7.91</td>\n",
       "      <td>10000.0</td>\n",
       "      <td>35000.0</td>\n",
       "      <td>45000.0</td>\n",
       "      <td>0</td>\n",
       "      <td>0</td>\n",
       "      <td>0</td>\n",
       "      <td>1</td>\n",
       "    </tr>\n",
       "    <tr>\n",
       "      <th>1014</th>\n",
       "      <td>1</td>\n",
       "      <td>7.26</td>\n",
       "      <td>9000.0</td>\n",
       "      <td>59000.0</td>\n",
       "      <td>68000.0</td>\n",
       "      <td>1</td>\n",
       "      <td>0</td>\n",
       "      <td>0</td>\n",
       "      <td>2</td>\n",
       "    </tr>\n",
       "    <tr>\n",
       "      <th>1015</th>\n",
       "      <td>0</td>\n",
       "      <td>7.50</td>\n",
       "      <td>3500.0</td>\n",
       "      <td>0.0</td>\n",
       "      <td>3500.0</td>\n",
       "      <td>0</td>\n",
       "      <td>0</td>\n",
       "      <td>0</td>\n",
       "      <td>2</td>\n",
       "    </tr>\n",
       "    <tr>\n",
       "      <th>1016</th>\n",
       "      <td>1</td>\n",
       "      <td>7.48</td>\n",
       "      <td>10000.0</td>\n",
       "      <td>62500.0</td>\n",
       "      <td>72500.0</td>\n",
       "      <td>1</td>\n",
       "      <td>1</td>\n",
       "      <td>0</td>\n",
       "      <td>6</td>\n",
       "    </tr>\n",
       "  </tbody>\n",
       "</table>\n",
       "<p>1017 rows × 9 columns</p>\n",
       "</div>"
      ],
      "text/plain": [
       "      mode  jarak  jumlah_pengiriman  jumlah_toko  total_jumlah_transaksi  \\\n",
       "0        0   5.55             2500.0          0.0                  2500.0   \n",
       "1        1   7.08             9000.0      82000.0                 91000.0   \n",
       "2        2   4.02             5000.0      58500.0                 63500.0   \n",
       "3        1   8.94            12000.0      72000.0                 84000.0   \n",
       "4        3   7.93            14400.0          0.0                 14400.0   \n",
       "...    ...    ...                ...          ...                     ...   \n",
       "1012     0   9.75             5000.0          0.0                  5000.0   \n",
       "1013     1   7.91            10000.0      35000.0                 45000.0   \n",
       "1014     1   7.26             9000.0      59000.0                 68000.0   \n",
       "1015     0   7.50             3500.0          0.0                  3500.0   \n",
       "1016     1   7.48            10000.0      62500.0                 72500.0   \n",
       "\n",
       "      jenis_kelamin_pelanggan  jenis_kelamin_pengemudi  jenis_kendaraan  \\\n",
       "0                           0                        0                0   \n",
       "1                           1                        0                0   \n",
       "2                           1                        0                0   \n",
       "3                           1                        0                0   \n",
       "4                           1                        1                1   \n",
       "...                       ...                      ...              ...   \n",
       "1012                        1                        0                0   \n",
       "1013                        0                        0                0   \n",
       "1014                        1                        0                0   \n",
       "1015                        0                        0                0   \n",
       "1016                        1                        1                0   \n",
       "\n",
       "      merk_kendaraan  \n",
       "0                  0  \n",
       "1                  1  \n",
       "2                  2  \n",
       "3                  3  \n",
       "4                  4  \n",
       "...              ...  \n",
       "1012               1  \n",
       "1013               1  \n",
       "1014               2  \n",
       "1015               2  \n",
       "1016               6  \n",
       "\n",
       "[1017 rows x 9 columns]"
      ]
     },
     "execution_count": 54,
     "metadata": {},
     "output_type": "execute_result"
    }
   ],
   "source": [
    "df2"
   ]
  },
  {
   "cell_type": "code",
   "execution_count": 55,
   "metadata": {
    "colab": {
     "base_uri": "https://localhost:8080/",
     "height": 899
    },
    "id": "4stnCmZ52Wex",
    "outputId": "d45f46b9-dc43-4eb9-cbcb-9cf61c00aa18"
   },
   "outputs": [
    {
     "data": {
      "image/png": "[encoded data removed]",
      "text/plain": [
       "<Figure size 2000x1000 with 2 Axes>"
      ]
     },
     "metadata": {},
     "output_type": "display_data"
    }
   ],
   "source": [
    "# annot=True digunakan untuk menampilkan nilai korelasi pada setiap kotak pada heatmap\n",
    "plt.figure(figsize=(20, 10))\n",
    "ax = sns.heatmap(df2.corr(), annot=True, cmap=\"Greens\")"
   ]
  },
  {
   "cell_type": "code",
   "execution_count": 56,
   "metadata": {
    "colab": {
     "base_uri": "https://localhost:8080/",
     "height": 376
    },
    "id": "PDRckUmQlONR",
    "outputId": "b70389ef-36c7-4b62-dc0d-126cc79260ba"
   },
   "outputs": [
    {
     "data": {
      "text/html": [
       "<div>\n",
       "<style scoped>\n",
       "    .dataframe tbody tr th:only-of-type {\n",
       "        vertical-align: middle;\n",
       "    }\n",
       "\n",
       "    .dataframe tbody tr th {\n",
       "        vertical-align: top;\n",
       "    }\n",
       "\n",
       "    .dataframe thead th {\n",
       "        text-align: right;\n",
       "    }\n",
       "</style>\n",
       "<table border=\"1\" class=\"dataframe\">\n",
       "  <thead>\n",
       "    <tr style=\"text-align: right;\">\n",
       "      <th></th>\n",
       "      <th>mode</th>\n",
       "      <th>jarak</th>\n",
       "      <th>jumlah_pengiriman</th>\n",
       "      <th>jumlah_toko</th>\n",
       "      <th>total_jumlah_transaksi</th>\n",
       "      <th>jenis_kelamin_pelanggan</th>\n",
       "      <th>jenis_kelamin_pengemudi</th>\n",
       "      <th>jenis_kendaraan</th>\n",
       "      <th>merk_kendaraan</th>\n",
       "    </tr>\n",
       "  </thead>\n",
       "  <tbody>\n",
       "    <tr>\n",
       "      <th>mode</th>\n",
       "      <td>1.000000</td>\n",
       "      <td>-0.042556</td>\n",
       "      <td>0.629110</td>\n",
       "      <td>0.051381</td>\n",
       "      <td>0.161783</td>\n",
       "      <td>0.042412</td>\n",
       "      <td>0.051335</td>\n",
       "      <td>0.802512</td>\n",
       "      <td>0.446176</td>\n",
       "    </tr>\n",
       "    <tr>\n",
       "      <th>jarak</th>\n",
       "      <td>-0.042556</td>\n",
       "      <td>1.000000</td>\n",
       "      <td>0.433444</td>\n",
       "      <td>-0.182214</td>\n",
       "      <td>-0.084695</td>\n",
       "      <td>-0.038704</td>\n",
       "      <td>-0.006224</td>\n",
       "      <td>0.080103</td>\n",
       "      <td>0.036300</td>\n",
       "    </tr>\n",
       "    <tr>\n",
       "      <th>jumlah_pengiriman</th>\n",
       "      <td>0.629110</td>\n",
       "      <td>0.433444</td>\n",
       "      <td>1.000000</td>\n",
       "      <td>0.107254</td>\n",
       "      <td>0.239061</td>\n",
       "      <td>0.017026</td>\n",
       "      <td>-0.002386</td>\n",
       "      <td>0.499258</td>\n",
       "      <td>0.278320</td>\n",
       "    </tr>\n",
       "    <tr>\n",
       "      <th>jumlah_toko</th>\n",
       "      <td>0.051381</td>\n",
       "      <td>-0.182214</td>\n",
       "      <td>0.107254</td>\n",
       "      <td>1.000000</td>\n",
       "      <td>0.986073</td>\n",
       "      <td>0.026091</td>\n",
       "      <td>-0.062994</td>\n",
       "      <td>-0.455392</td>\n",
       "      <td>-0.239644</td>\n",
       "    </tr>\n",
       "    <tr>\n",
       "      <th>total_jumlah_transaksi</th>\n",
       "      <td>0.161783</td>\n",
       "      <td>-0.084695</td>\n",
       "      <td>0.239061</td>\n",
       "      <td>0.986073</td>\n",
       "      <td>1.000000</td>\n",
       "      <td>0.022774</td>\n",
       "      <td>-0.060978</td>\n",
       "      <td>-0.348948</td>\n",
       "      <td>-0.182617</td>\n",
       "    </tr>\n",
       "    <tr>\n",
       "      <th>jenis_kelamin_pelanggan</th>\n",
       "      <td>0.042412</td>\n",
       "      <td>-0.038704</td>\n",
       "      <td>0.017026</td>\n",
       "      <td>0.026091</td>\n",
       "      <td>0.022774</td>\n",
       "      <td>1.000000</td>\n",
       "      <td>0.040695</td>\n",
       "      <td>0.022546</td>\n",
       "      <td>0.037696</td>\n",
       "    </tr>\n",
       "    <tr>\n",
       "      <th>jenis_kelamin_pengemudi</th>\n",
       "      <td>0.051335</td>\n",
       "      <td>-0.006224</td>\n",
       "      <td>-0.002386</td>\n",
       "      <td>-0.062994</td>\n",
       "      <td>-0.060978</td>\n",
       "      <td>0.040695</td>\n",
       "      <td>1.000000</td>\n",
       "      <td>0.088219</td>\n",
       "      <td>0.083441</td>\n",
       "    </tr>\n",
       "    <tr>\n",
       "      <th>jenis_kendaraan</th>\n",
       "      <td>0.802512</td>\n",
       "      <td>0.080103</td>\n",
       "      <td>0.499258</td>\n",
       "      <td>-0.455392</td>\n",
       "      <td>-0.348948</td>\n",
       "      <td>0.022546</td>\n",
       "      <td>0.088219</td>\n",
       "      <td>1.000000</td>\n",
       "      <td>0.540371</td>\n",
       "    </tr>\n",
       "    <tr>\n",
       "      <th>merk_kendaraan</th>\n",
       "      <td>0.446176</td>\n",
       "      <td>0.036300</td>\n",
       "      <td>0.278320</td>\n",
       "      <td>-0.239644</td>\n",
       "      <td>-0.182617</td>\n",
       "      <td>0.037696</td>\n",
       "      <td>0.083441</td>\n",
       "      <td>0.540371</td>\n",
       "      <td>1.000000</td>\n",
       "    </tr>\n",
       "  </tbody>\n",
       "</table>\n",
       "</div>"
      ],
      "text/plain": [
       "                             mode     jarak  jumlah_pengiriman  jumlah_toko  \\\n",
       "mode                     1.000000 -0.042556           0.629110     0.051381   \n",
       "jarak                   -0.042556  1.000000           0.433444    -0.182214   \n",
       "jumlah_pengiriman        0.629110  0.433444           1.000000     0.107254   \n",
       "jumlah_toko              0.051381 -0.182214           0.107254     1.000000   \n",
       "total_jumlah_transaksi   0.161783 -0.084695           0.239061     0.986073   \n",
       "jenis_kelamin_pelanggan  0.042412 -0.038704           0.017026     0.026091   \n",
       "jenis_kelamin_pengemudi  0.051335 -0.006224          -0.002386    -0.062994   \n",
       "jenis_kendaraan          0.802512  0.080103           0.499258    -0.455392   \n",
       "merk_kendaraan           0.446176  0.036300           0.278320    -0.239644   \n",
       "\n",
       "                         total_jumlah_transaksi  jenis_kelamin_pelanggan  \\\n",
       "mode                                   0.161783                 0.042412   \n",
       "jarak                                 -0.084695                -0.038704   \n",
       "jumlah_pengiriman                      0.239061                 0.017026   \n",
       "jumlah_toko                            0.986073                 0.026091   \n",
       "total_jumlah_transaksi                 1.000000                 0.022774   \n",
       "jenis_kelamin_pelanggan                0.022774                 1.000000   \n",
       "jenis_kelamin_pengemudi               -0.060978                 0.040695   \n",
       "jenis_kendaraan                       -0.348948                 0.022546   \n",
       "merk_kendaraan                        -0.182617                 0.037696   \n",
       "\n",
       "                         jenis_kelamin_pengemudi  jenis_kendaraan  \\\n",
       "mode                                    0.051335         0.802512   \n",
       "jarak                                  -0.006224         0.080103   \n",
       "jumlah_pengiriman                      -0.002386         0.499258   \n",
       "jumlah_toko                            -0.062994        -0.455392   \n",
       "total_jumlah_transaksi                 -0.060978        -0.348948   \n",
       "jenis_kelamin_pelanggan                 0.040695         0.022546   \n",
       "jenis_kelamin_pengemudi                 1.000000         0.088219   \n",
       "jenis_kendaraan                         0.088219         1.000000   \n",
       "merk_kendaraan                          0.083441         0.540371   \n",
       "\n",
       "                         merk_kendaraan  \n",
       "mode                           0.446176  \n",
       "jarak                          0.036300  \n",
       "jumlah_pengiriman              0.278320  \n",
       "jumlah_toko                   -0.239644  \n",
       "total_jumlah_transaksi        -0.182617  \n",
       "jenis_kelamin_pelanggan        0.037696  \n",
       "jenis_kelamin_pengemudi        0.083441  \n",
       "jenis_kendaraan                0.540371  \n",
       "merk_kendaraan                 1.000000  "
      ]
     },
     "execution_count": 56,
     "metadata": {},
     "output_type": "execute_result"
    }
   ],
   "source": [
    "df2.corr()"
   ]
  },
  {
   "cell_type": "code",
   "execution_count": 57,
   "metadata": {
    "id": "GKB2wIK6papD"
   },
   "outputs": [],
   "source": [
    "df3 = df2.copy()"
   ]
  },
  {
   "cell_type": "code",
   "execution_count": 58,
   "metadata": {
    "colab": {
     "base_uri": "https://localhost:8080/"
    },
    "id": "KL6LVCE9pey6",
    "outputId": "b231a619-77a2-43d6-d0f5-72ecb53d6284"
   },
   "outputs": [
    {
     "data": {
      "text/plain": [
       "((1017, 9), (1017, 9))"
      ]
     },
     "execution_count": 58,
     "metadata": {},
     "output_type": "execute_result"
    }
   ],
   "source": [
    "df2.shape, df3.shape"
   ]
  },
  {
   "cell_type": "code",
   "execution_count": 59,
   "metadata": {
    "colab": {
     "base_uri": "https://localhost:8080/"
    },
    "id": "UeC0BHGE2iTJ",
    "outputId": "2bebaf84-9547-49aa-dc0f-77e8649ec3fb"
   },
   "outputs": [
    {
     "name": "stdout",
     "output_type": "stream",
     "text": [
      "(1017, 8)\n",
      "(1017,)\n"
     ]
    }
   ],
   "source": [
    "# Melakukan inisialisasi variabel X dan y\n",
    "X = df2.drop(['total_jumlah_transaksi'], axis=1)\n",
    "y = df2['total_jumlah_transaksi']\n",
    "print(X.shape)\n",
    "print(y.shape)"
   ]
  },
  {
   "cell_type": "code",
   "execution_count": 60,
   "metadata": {},
   "outputs": [
    {
     "name": "stdout",
     "output_type": "stream",
     "text": [
      "8 Atribut Terbaik\n",
      "                     Specs         Score\n",
      "3              jumlah_toko  35679.875366\n",
      "6          jenis_kendaraan    140.726727\n",
      "2        jumlah_pengiriman     61.523589\n",
      "7           merk_kendaraan     35.017159\n",
      "0                     mode     27.280447\n",
      "1                    jarak      7.333369\n",
      "5  jenis_kelamin_pengemudi      3.788206\n",
      "4  jenis_kelamin_pelanggan      0.526703\n"
     ]
    }
   ],
   "source": [
    "bestfeatures = SelectKBest(score_func=f_regression, k=8)\n",
    "\n",
    "fit = bestfeatures.fit(X,y)\n",
    "dfscores = pd.DataFrame(fit.scores_)\n",
    "dfcolumns = pd.DataFrame(X.columns)\n",
    " \n",
    "featureScores = pd.concat([dfcolumns,dfscores],axis=1)\n",
    "featureScores.columns = ['Specs','Score']\n",
    "\n",
    "print(\"8 Atribut Terbaik\")\n",
    "print(featureScores.nlargest(8,'Score'))"
   ]
  },
  {
   "cell_type": "code",
   "execution_count": 61,
   "metadata": {},
   "outputs": [],
   "source": [
    "X_fit = pd.concat([df3[['jumlah_toko','jenis_kendaraan','jumlah_pengiriman','merk_kendaraan','mode','jarak']]],axis=1)"
   ]
  },
  {
   "cell_type": "code",
   "execution_count": 62,
   "metadata": {},
   "outputs": [
    {
     "data": {
      "text/html": [
       "<div>\n",
       "<style scoped>\n",
       "    .dataframe tbody tr th:only-of-type {\n",
       "        vertical-align: middle;\n",
       "    }\n",
       "\n",
       "    .dataframe tbody tr th {\n",
       "        vertical-align: top;\n",
       "    }\n",
       "\n",
       "    .dataframe thead th {\n",
       "        text-align: right;\n",
       "    }\n",
       "</style>\n",
       "<table border=\"1\" class=\"dataframe\">\n",
       "  <thead>\n",
       "    <tr style=\"text-align: right;\">\n",
       "      <th></th>\n",
       "      <th>jumlah_toko</th>\n",
       "      <th>jenis_kendaraan</th>\n",
       "      <th>jumlah_pengiriman</th>\n",
       "      <th>merk_kendaraan</th>\n",
       "      <th>mode</th>\n",
       "      <th>jarak</th>\n",
       "    </tr>\n",
       "  </thead>\n",
       "  <tbody>\n",
       "    <tr>\n",
       "      <th>0</th>\n",
       "      <td>0.0</td>\n",
       "      <td>0</td>\n",
       "      <td>2500.0</td>\n",
       "      <td>0</td>\n",
       "      <td>0</td>\n",
       "      <td>5.55</td>\n",
       "    </tr>\n",
       "    <tr>\n",
       "      <th>1</th>\n",
       "      <td>82000.0</td>\n",
       "      <td>0</td>\n",
       "      <td>9000.0</td>\n",
       "      <td>1</td>\n",
       "      <td>1</td>\n",
       "      <td>7.08</td>\n",
       "    </tr>\n",
       "    <tr>\n",
       "      <th>2</th>\n",
       "      <td>58500.0</td>\n",
       "      <td>0</td>\n",
       "      <td>5000.0</td>\n",
       "      <td>2</td>\n",
       "      <td>2</td>\n",
       "      <td>4.02</td>\n",
       "    </tr>\n",
       "    <tr>\n",
       "      <th>3</th>\n",
       "      <td>72000.0</td>\n",
       "      <td>0</td>\n",
       "      <td>12000.0</td>\n",
       "      <td>3</td>\n",
       "      <td>1</td>\n",
       "      <td>8.94</td>\n",
       "    </tr>\n",
       "    <tr>\n",
       "      <th>4</th>\n",
       "      <td>0.0</td>\n",
       "      <td>1</td>\n",
       "      <td>14400.0</td>\n",
       "      <td>4</td>\n",
       "      <td>3</td>\n",
       "      <td>7.93</td>\n",
       "    </tr>\n",
       "    <tr>\n",
       "      <th>...</th>\n",
       "      <td>...</td>\n",
       "      <td>...</td>\n",
       "      <td>...</td>\n",
       "      <td>...</td>\n",
       "      <td>...</td>\n",
       "      <td>...</td>\n",
       "    </tr>\n",
       "    <tr>\n",
       "      <th>1012</th>\n",
       "      <td>0.0</td>\n",
       "      <td>0</td>\n",
       "      <td>5000.0</td>\n",
       "      <td>1</td>\n",
       "      <td>0</td>\n",
       "      <td>9.75</td>\n",
       "    </tr>\n",
       "    <tr>\n",
       "      <th>1013</th>\n",
       "      <td>35000.0</td>\n",
       "      <td>0</td>\n",
       "      <td>10000.0</td>\n",
       "      <td>1</td>\n",
       "      <td>1</td>\n",
       "      <td>7.91</td>\n",
       "    </tr>\n",
       "    <tr>\n",
       "      <th>1014</th>\n",
       "      <td>59000.0</td>\n",
       "      <td>0</td>\n",
       "      <td>9000.0</td>\n",
       "      <td>2</td>\n",
       "      <td>1</td>\n",
       "      <td>7.26</td>\n",
       "    </tr>\n",
       "    <tr>\n",
       "      <th>1015</th>\n",
       "      <td>0.0</td>\n",
       "      <td>0</td>\n",
       "      <td>3500.0</td>\n",
       "      <td>2</td>\n",
       "      <td>0</td>\n",
       "      <td>7.50</td>\n",
       "    </tr>\n",
       "    <tr>\n",
       "      <th>1016</th>\n",
       "      <td>62500.0</td>\n",
       "      <td>0</td>\n",
       "      <td>10000.0</td>\n",
       "      <td>6</td>\n",
       "      <td>1</td>\n",
       "      <td>7.48</td>\n",
       "    </tr>\n",
       "  </tbody>\n",
       "</table>\n",
       "<p>1017 rows × 6 columns</p>\n",
       "</div>"
      ],
      "text/plain": [
       "      jumlah_toko  jenis_kendaraan  jumlah_pengiriman  merk_kendaraan  mode  \\\n",
       "0             0.0                0             2500.0               0     0   \n",
       "1         82000.0                0             9000.0               1     1   \n",
       "2         58500.0                0             5000.0               2     2   \n",
       "3         72000.0                0            12000.0               3     1   \n",
       "4             0.0                1            14400.0               4     3   \n",
       "...           ...              ...                ...             ...   ...   \n",
       "1012          0.0                0             5000.0               1     0   \n",
       "1013      35000.0                0            10000.0               1     1   \n",
       "1014      59000.0                0             9000.0               2     1   \n",
       "1015          0.0                0             3500.0               2     0   \n",
       "1016      62500.0                0            10000.0               6     1   \n",
       "\n",
       "      jarak  \n",
       "0      5.55  \n",
       "1      7.08  \n",
       "2      4.02  \n",
       "3      8.94  \n",
       "4      7.93  \n",
       "...     ...  \n",
       "1012   9.75  \n",
       "1013   7.91  \n",
       "1014   7.26  \n",
       "1015   7.50  \n",
       "1016   7.48  \n",
       "\n",
       "[1017 rows x 6 columns]"
      ]
     },
     "execution_count": 62,
     "metadata": {},
     "output_type": "execute_result"
    }
   ],
   "source": [
    "X_fit"
   ]
  },
  {
   "cell_type": "code",
   "execution_count": 63,
   "metadata": {},
   "outputs": [
    {
     "data": {
      "text/plain": [
       "(1017, 6)"
      ]
     },
     "execution_count": 63,
     "metadata": {},
     "output_type": "execute_result"
    }
   ],
   "source": [
    "X_fit.shape"
   ]
  },
  {
   "cell_type": "markdown",
   "metadata": {},
   "source": [
    "Setelah diperoleh atribut yang akan dilakukan training, kemudian membagi data menjadi Training dan Testing dengan proporsi 0.7 dan 0.3"
   ]
  },
  {
   "cell_type": "code",
   "execution_count": 64,
   "metadata": {},
   "outputs": [],
   "source": [
    "X_train, X_test, y_train, y_test = train_test_split(X_fit, y, test_size = 0.3, random_state = 1)"
   ]
  },
  {
   "cell_type": "code",
   "execution_count": 65,
   "metadata": {},
   "outputs": [
    {
     "name": "stdout",
     "output_type": "stream",
     "text": [
      "Dimensi feature data train : (711, 6)\n",
      "Dimensi target data train : (711,)\n",
      "Dimensi feature data test : (306, 6)\n",
      "Dimensi target data test : (306,)\n"
     ]
    }
   ],
   "source": [
    "# Mengetahui dimensi data train dan data test\n",
    "print('Dimensi feature data train :', X_train.shape)\n",
    "print('Dimensi target data train :', y_train.shape)\n",
    "print('Dimensi feature data test :', X_test.shape)\n",
    "print('Dimensi target data test :', y_test.shape)"
   ]
  },
  {
   "cell_type": "markdown",
   "metadata": {},
   "source": [
    "# PENDEFINISIAN MODEL"
   ]
  },
  {
   "cell_type": "code",
   "execution_count": 66,
   "metadata": {},
   "outputs": [],
   "source": [
    "lr_i = LinearRegression(fit_intercept=False)\n",
    "lr_m = make_pipeline(StandardScaler(with_mean=True), LinearRegression())\n",
    "rfr = RandomForestRegressor(n_estimators = 56, random_state = 14)"
   ]
  },
  {
   "cell_type": "markdown",
   "metadata": {
    "id": "KUaVhMZe65KC"
   },
   "source": [
    "# PELATIHAN MODEL"
   ]
  },
  {
   "cell_type": "code",
   "execution_count": 67,
   "metadata": {},
   "outputs": [],
   "source": [
    "lm_1 = lr_i.fit(X_train, y_train)\n",
    "lm_2 = lr_m.fit(X_train, y_train)\n",
    "rfr_model = rfr.fit(X_train, y_train)"
   ]
  },
  {
   "cell_type": "markdown",
   "metadata": {
    "id": "hzOArC_j7DmS"
   },
   "source": [
    "# EVALUASI MODEL"
   ]
  },
  {
   "cell_type": "code",
   "execution_count": 68,
   "metadata": {},
   "outputs": [
    {
     "name": "stdout",
     "output_type": "stream",
     "text": [
      "Linear Regression train R Squared  =  0.9937480403590676\n",
      "Linear Regression test R Squared   =  0.9946517229208317\n",
      "Linear Regression test RMSE        =  2483.3307796609756\n"
     ]
    },
    {
     "data": {
      "image/png": "[encoded data removed]",
      "text/plain": [
       "<Figure size 640x480 with 1 Axes>"
      ]
     },
     "metadata": {},
     "output_type": "display_data"
    }
   ],
   "source": [
    "#  MODEL 1\n",
    "\n",
    "\n",
    "y_pred = lm_1.predict(X_test)\n",
    "\n",
    "## R-squared data train\n",
    "lr_train_r2 = lr_i.score(X_train,y_train)\n",
    "## R-squared data test\n",
    "lr_test_r2 = lr_i.score(X_test, y_test)\n",
    "\n",
    "print('Linear Regression train R Squared  = ', lr_train_r2)\n",
    "print('Linear Regression test R Squared   = ', lr_test_r2)\n",
    "\n",
    "## Root mean squared error\n",
    "lr_rmse = np.sqrt(mean_squared_error(y_pred,y_test))\n",
    "print('Linear Regression test RMSE        = ', lr_rmse)\n",
    "\n",
    "x_axis = X_test.jarak\n",
    "\n",
    "## Scatter plot\n",
    "plt.scatter(x_axis, y_test, c = 'b', alpha = 0.5, marker = '.', label = 'Aktual')\n",
    "plt.scatter(x_axis, y_pred, c = 'g', alpha = 0.5, marker = '.', label = 'Prediksi')\n",
    "plt.xlabel('Jarak(mile)')\n",
    "plt.ylabel('Total Jumlah Transaksi($)') \n",
    "plt.title(\"Perbandingan Prediksi dan Aktual Total Jumlah Transaksi Terhadap Jarak\")\n",
    "plt.legend(loc = 'upper right')\n",
    "plt.show()"
   ]
  },
  {
   "cell_type": "code",
   "execution_count": 69,
   "metadata": {},
   "outputs": [
    {
     "name": "stdout",
     "output_type": "stream",
     "text": [
      "Linear Regression train R Squared  =  0.9955825097763377\n",
      "Linear Regression test R Squared   =  0.9957079596284739\n",
      "Linear Regression test RMSE        =  2224.6388703658536\n"
     ]
    },
    {
     "data": {
      "image/png": "[encoded data removed]",
      "text/plain": [
       "<Figure size 640x480 with 1 Axes>"
      ]
     },
     "metadata": {},
     "output_type": "display_data"
    }
   ],
   "source": [
    "# MODEL 2\n",
    "\n",
    "y_pred = lm_2.predict(X_test)\n",
    "\n",
    "## R-squared data train\n",
    "lr_train2_r2 = lr_m.score(X_train,y_train)\n",
    "## R-squared data test\n",
    "lr_test2_r2 = lr_m.score(X_test, y_test)\n",
    "\n",
    "print('Linear Regression train R Squared  = ', lr_train2_r2)\n",
    "print('Linear Regression test R Squared   = ', lr_test2_r2)\n",
    "\n",
    "## Root mean squared error\n",
    "lr_rmse2 = np.sqrt(mean_squared_error(y_pred,y_test))\n",
    "print('Linear Regression test RMSE        = ', lr_rmse2)\n",
    "\n",
    "x_axis = X_test.jarak \n",
    "\n",
    "## Scatter plot\n",
    "plt.scatter(x_axis, y_test, c = 'b', alpha = 0.5, marker = '.', label = 'Aktual')\n",
    "plt.scatter(x_axis, y_pred, c = 'r', alpha = 0.5, marker = '.', label = 'Prediksi')\n",
    "plt.xlabel('Jarak(mile)')\n",
    "plt.ylabel('Total Jumlah Transaksi($)') \n",
    "plt.title(\"Perbandingan Prediksi dan Aktual Total Jumlah Transaksi Terhadap Jarak\")\n",
    "plt.legend(loc = 'upper right')\n",
    "plt.show()"
   ]
  },
  {
   "cell_type": "code",
   "execution_count": 70,
   "metadata": {},
   "outputs": [
    {
     "name": "stdout",
     "output_type": "stream",
     "text": [
      "Random Forest train R Squared  = 1.000\n",
      "Random Forest test R Squared   = 0.999\n",
      "Random Forest test RMSE        = 1000.334\n"
     ]
    },
    {
     "data": {
      "image/png": "[encoded data removed]",
      "text/plain": [
       "<Figure size 640x480 with 1 Axes>"
      ]
     },
     "metadata": {},
     "output_type": "display_data"
    }
   ],
   "source": [
    "# MODEL 3\n",
    "\n",
    "y_pred = rfr.predict(X_test)\n",
    "## R-squared data train\n",
    "rf_train_r2 = rfr_model.score(X_train,y_train)\n",
    "## R-squared data test\n",
    "rf_test_r2 = rfr_model.score(X_test, y_test)\n",
    "\n",
    "print('Random Forest train R Squared  = %.3f' % rf_train_r2)\n",
    "print('Random Forest test R Squared   = %.3f' % rf_test_r2)\n",
    "\n",
    "## Root mean squared error\n",
    "rf_rmse = np.sqrt(mean_squared_error(y_pred,y_test))\n",
    "print('Random Forest test RMSE        = %.3f' % rf_rmse)\n",
    "\n",
    "x_axis = X_test.jarak \n",
    "\n",
    "## Scatter plot\n",
    "plt.scatter(x_axis, y_test, c = 'g', alpha = 0.5, marker = '.', label = 'Aktual')\n",
    "plt.scatter(x_axis, y_pred, c = 'r', alpha = 0.4, marker = '.', label = 'Prediksi')\n",
    "plt.xlabel('Jarak(mile)')\n",
    "plt.ylabel('Total Jumlah Transaksi($)') \n",
    "plt.title(\"Perbandingan Prediksi dan Aktual Total Jumlah Transaksi Terhadap Jarak\")\n",
    "plt.legend(loc = 'upper right')\n",
    "plt.show()"
   ]
  },
  {
   "cell_type": "markdown",
   "metadata": {},
   "source": [
    "Berdasarkan nilai evaluasi di atas, Kedua model memiliki nilai R Squared yang cukup tinggi dan hampir sama, yaitu sekitar 0.99, yang menunjukkan model cukup baik dalam menjelaskan variabilitas data. Namun, nilai RMSE pada kedua model sekitar 0.02 dan 0.01 maka keduanya memiliki tingkat kesalahan prediksi yang serupa dan kemungkinan memiliki kualitas yang setara dalam memodelkan data.\n",
    "\n",
    "Model ketiga yaitu Random Forest hanya digunakan sebagai pembanding antara 2 evaluasi model pertama,model ini memiliki evaluasi model paling baik diantara ketiga model dikarenakan memiliki nilai RMSE yang rendah dam hasil train dan test R squared yang lebih tinggi."
   ]
  },
  {
   "cell_type": "markdown",
   "metadata": {},
   "source": [
    "# MODEL INFERENCE"
   ]
  },
  {
   "cell_type": "code",
   "execution_count": 71,
   "metadata": {},
   "outputs": [
    {
     "name": "stdout",
     "output_type": "stream",
     "text": [
      "<class 'pandas.core.frame.DataFrame'>\n",
      "RangeIndex: 1017 entries, 0 to 1016\n",
      "Data columns (total 6 columns):\n",
      " #   Column             Non-Null Count  Dtype  \n",
      "---  ------             --------------  -----  \n",
      " 0   jumlah_toko        1017 non-null   float64\n",
      " 1   jenis_kendaraan    1017 non-null   int64  \n",
      " 2   jumlah_pengiriman  1017 non-null   float64\n",
      " 3   merk_kendaraan     1017 non-null   int64  \n",
      " 4   mode               1017 non-null   int64  \n",
      " 5   jarak              1017 non-null   float64\n",
      "dtypes: float64(3), int64(3)\n",
      "memory usage: 47.8 KB\n"
     ]
    }
   ],
   "source": [
    "X_fit.info()"
   ]
  },
  {
   "cell_type": "code",
   "execution_count": 72,
   "metadata": {},
   "outputs": [],
   "source": [
    "## Membuat variable data untuk mengisi data baru \n",
    "data = {\n",
    "   'jumlah_toko': [90000],\n",
    "    'jenis_kendaraan' :[1],\n",
    "    'jumlah_pengiriman' : [2500],\n",
    "    'merk_kendaraan' : [1],\n",
    "    'mode' : [1],\n",
    "    'jarak' : [7]\n",
    "}\n",
    "## Membuat dataframe dari variable 'data' dengan nama X_new\n",
    "X_new = pd.DataFrame(data)"
   ]
  },
  {
   "cell_type": "code",
   "execution_count": 73,
   "metadata": {},
   "outputs": [
    {
     "data": {
      "text/html": [
       "<div>\n",
       "<style scoped>\n",
       "    .dataframe tbody tr th:only-of-type {\n",
       "        vertical-align: middle;\n",
       "    }\n",
       "\n",
       "    .dataframe tbody tr th {\n",
       "        vertical-align: top;\n",
       "    }\n",
       "\n",
       "    .dataframe thead th {\n",
       "        text-align: right;\n",
       "    }\n",
       "</style>\n",
       "<table border=\"1\" class=\"dataframe\">\n",
       "  <thead>\n",
       "    <tr style=\"text-align: right;\">\n",
       "      <th></th>\n",
       "      <th>jumlah_toko</th>\n",
       "      <th>jenis_kendaraan</th>\n",
       "      <th>jumlah_pengiriman</th>\n",
       "      <th>merk_kendaraan</th>\n",
       "      <th>mode</th>\n",
       "      <th>jarak</th>\n",
       "    </tr>\n",
       "  </thead>\n",
       "  <tbody>\n",
       "    <tr>\n",
       "      <th>0</th>\n",
       "      <td>90000</td>\n",
       "      <td>1</td>\n",
       "      <td>2500</td>\n",
       "      <td>1</td>\n",
       "      <td>1</td>\n",
       "      <td>7</td>\n",
       "    </tr>\n",
       "  </tbody>\n",
       "</table>\n",
       "</div>"
      ],
      "text/plain": [
       "   jumlah_toko  jenis_kendaraan  jumlah_pengiriman  merk_kendaraan  mode  \\\n",
       "0        90000                1               2500               1     1   \n",
       "\n",
       "   jarak  \n",
       "0      7  "
      ]
     },
     "execution_count": 73,
     "metadata": {},
     "output_type": "execute_result"
    }
   ],
   "source": [
    "X_new"
   ]
  },
  {
   "cell_type": "code",
   "execution_count": 74,
   "metadata": {},
   "outputs": [
    {
     "name": "stdout",
     "output_type": "stream",
     "text": [
      "Hasil prediksi total harga transaksi baru : [101700.18325153]\n"
     ]
    }
   ],
   "source": [
    "y_pred_new = lm_1.predict(X_new)\n",
    "print('Hasil prediksi total harga transaksi baru :', y_pred_new)"
   ]
  },
  {
   "cell_type": "markdown",
   "metadata": {},
   "source": [
    "Hasil prediksi total harga transaksi baru yaitu Rp 101.700,00"
   ]
  }
 ],
 "metadata": {
  "colab": {
   "provenance": []
  },
  "kernelspec": {
   "display_name": "Python 3 (ipykernel)",
   "language": "python",
   "name": "python3"
  },
  "language_info": {
   "codemirror_mode": {
    "name": "ipython",
    "version": 3
   },
   "file_extension": ".py",
   "mimetype": "text/x-python",
   "name": "python",
   "nbconvert_exporter": "python",
   "pygments_lexer": "ipython3",
   "version": "3.9.13"
  }
 },
 "nbformat": 4,
 "nbformat_minor": 1
}
